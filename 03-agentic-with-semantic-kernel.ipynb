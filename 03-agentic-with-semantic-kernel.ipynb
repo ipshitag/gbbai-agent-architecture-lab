{
 "cells": [
  {
   "cell_type": "code",
   "execution_count": 1,
   "metadata": {},
   "outputs": [
    {
     "name": "stdout",
     "output_type": "stream",
     "text": [
      "Directory changed to C:\\Users\\pablosal\\Desktop\\gbbai-agent-architecture-lab\n"
     ]
    }
   ],
   "source": [
    "import os\n",
    "import pprint\n",
    "\n",
    "# Define the target directory\n",
    "target_directory = r\"C:\\Users\\pablosal\\Desktop\\gbbai-agent-architecture-lab\"  # change your directory here\n",
    "\n",
    "# Check if the directory exists\n",
    "if os.path.exists(target_directory):\n",
    "    # Change the current working directory\n",
    "    os.chdir(target_directory)\n",
    "    print(f\"Directory changed to {os.getcwd()}\")\n",
    "else:\n",
    "    print(f\"Directory {target_directory} does not exist.\")"
   ]
  },
  {
   "cell_type": "markdown",
   "metadata": {},
   "source": [
    "### Understanding Semantic Kernel Components\n",
    "\n",
    "Before diving into the implementation, let's understand the key components of Semantic Kernel.\n",
    "\n",
    "#### The Kernel\n",
    "\n",
    "The Kernel is the central orchestrator in Semantic Kernel. It manages:\n",
    "\n",
    "- **Connecting to AI Models**: Interfaces with various AI models via connectors.\n",
    "- **Registering and Invoking Plugins**: Manages the lifecycle and execution of plugins.\n",
    "- **Managing Memory and Context**: Maintains state and context across interactions.\n",
    "- **Interacting with the Planner**: Coordinates with the Planner to achieve specified goals.\n",
    "\n",
    "#### Connectors\n",
    "\n",
    "Connectors allow the Kernel to interface with various AI models and services. They define how the Kernel communicates with these models, whether they're:\n",
    "\n",
    "- **OpenAI Models**: Such as GPT-3.5, GPT-4.\n",
    "- **Azure OpenAI Services**: Leveraging Microsoft's cloud-based AI capabilities.\n",
    "- **Local Models**: Using libraries like Hugging Face Transformers.\n",
    "\n",
    "#### Plugins\n",
    "\n",
    "Plugins are modular units that extend the Kernel's functionality. They consist of:\n",
    "\n",
    "- **Prompt Functions**: Use natural language prompts to interact with AI models.\n",
    "- **Native Functions**: Written in Python, performing deterministic tasks or interfacing with external services.\n",
    "\n",
    "Plugins act as building blocks for complex workflows.\n",
    "\n",
    "#### The Planner\n",
    "\n",
    "The Planner uses AI to dynamically create a sequence of actions (a plan) to achieve a specified goal. It considers:\n",
    "\n",
    "- **Available Plugins and Their Functions**: Understands the capabilities of each plugin.\n",
    "- **Function Descriptions**: Uses metadata to understand what each function does.\n",
    "- **Combining Functions**: Determines how functions can be combined to fulfill the goal.\n"
   ]
  },
  {
   "cell_type": "markdown",
   "metadata": {},
   "source": [
    "### 🌟 Creating a Multi-Agent Architecture for Medical Research Documentation\n",
    "\n",
    "In the realm of medical research, producing high-quality documentation is crucial. This guide aims to design a multi-agent system consisting of three specialized agents:\n",
    "\n",
    "- **Medical Researcher**: Gathers and summarizes relevant medical information.\n",
    "- **Clinical Evaluator**: Assesses the clinical relevance and accuracy of the information.\n",
    "- **Medical Editor**: Refines the language and ensures adherence to medical writing standards.\n",
    "\n",
    "Using Semantic Kernel's capabilities, we'll create plugins representing these agents and use a Planner to dynamically orchestrate their workflow based on a given goal.\n",
    "\n",
    "By leveraging Semantic Kernel's capabilities, we can create a robust single-agent and sophisticated multi-agent system. Let's do it !\n",
    "\n",
    "### Implementation\n",
    "\n",
    "We will:\n",
    "\n",
    "1. **Define Plugins**: Create plugins for the Medical Researcher, Clinical Evaluator, and Medical Editor.\n",
    "2. **Configure the Kernel**: Set up the Kernel with the necessary connectors and plugins.\n",
    "3. **Develop the Planner**: Implement the Planner to dynamically orchestrate the workflow.\n",
    "4. **Execute the Plan**: Run the system to produce high-quality medical documentation."
   ]
  },
  {
   "cell_type": "code",
   "execution_count": 2,
   "metadata": {},
   "outputs": [
    {
     "name": "stdout",
     "output_type": "stream",
     "text": [
      "We are using the following semantic_kernel library version: 0.9.3b1\n"
     ]
    }
   ],
   "source": [
    "#!pip install semantic-kernel==0.9.3b1\n",
    "print(f\"We are using the following semantic_kernel library version: 0.9.3b1\")"
   ]
  },
  {
   "cell_type": "markdown",
   "metadata": {},
   "source": [
    "## 1. Define Plugins\n",
    "\n",
    "We have defined the plugin for MedicalAgents located in the specified directory  `C:\\Users\\pablosal\\Desktop\\gbbai-agent-architecture-lab\\src\\plugins\\MedicalAgents`"
   ]
  },
  {
   "cell_type": "markdown",
   "metadata": {},
   "source": [
    "## 2. Configure The Kernel"
   ]
  },
  {
   "cell_type": "code",
   "execution_count": 3,
   "metadata": {},
   "outputs": [],
   "source": [
    "import semantic_kernel as sk\n",
    "\n",
    "# Initialize the kernel\n",
    "kernel = sk.Kernel()"
   ]
  },
  {
   "cell_type": "code",
   "execution_count": 4,
   "metadata": {},
   "outputs": [],
   "source": [
    "# add Azure OpenAI service connector to the kernel\n",
    "\n",
    "import os\n",
    "from semantic_kernel import Kernel\n",
    "from semantic_kernel.connectors.ai.open_ai import AzureChatCompletion\n",
    "\n",
    "# Load environment variables from a .env file\n",
    "from dotenv import load_dotenv\n",
    "load_dotenv()\n",
    "\n",
    "AZURE_OPENAI_KEY = os.getenv(\"AZURE_OPENAI_KEY\")\n",
    "AZURE_AOAI_CHAT_MODEL_NAME_DEPLOYMENT_ID = os.getenv(\"AZURE_AOAI_CHAT_MODEL_NAME_DEPLOYMENT_ID\")\n",
    "AZURE_OPENAI_API_ENDPOINT = os.getenv(\"AZURE_OPENAI_API_ENDPOINT\")\n",
    "AZURE_OPENAI_API_VERSION = os.getenv(\"AZURE_OPENAI_API_VERSION\")\n",
    "\n",
    "openai_service = AzureChatCompletion(deployment_name=AZURE_AOAI_CHAT_MODEL_NAME_DEPLOYMENT_ID,\n",
    "                                    endpoint=AZURE_OPENAI_API_ENDPOINT, \n",
    "                                    service_id=\"openai_chat\", \n",
    "                                    api_key=AZURE_OPENAI_KEY)\n",
    "\n",
    "# Create a Kernel instance and add the OpenAI service\n",
    "kernel = Kernel()\n",
    "kernel.add_service(openai_service)"
   ]
  },
  {
   "cell_type": "code",
   "execution_count": 85,
   "metadata": {},
   "outputs": [
    {
     "name": "stdout",
     "output_type": "stream",
     "text": [
      "Generated Medical Research Summary: As of the latest research articles up to October 2023, several key findings and advancements have been made in the treatment of heart disease. Here is a summary of the most significant studies:\n",
      "\n",
      "1. **Gene Therapy for Heart Failure**:\n",
      "   - **Key Findings**: A study published in *Nature Medicine* demonstrated the potential of gene therapy to improve heart function in patients with heart failure. Researchers used a viral vector to deliver a gene encoding for a protein that enhances calcium handling in heart cells.\n",
      "   - **Methodology**: The study involved a randomized controlled trial with 150 participants who received either the gene therapy or a placebo. Cardiac function was assessed using echocardiography and MRI.\n",
      "   - **Conclusions**: Patients receiving the gene therapy showed significant improvements in ejection fraction and overall heart function compared to the placebo group, suggesting a promising new avenue for heart failure treatment.\n",
      "\n",
      "2. **Novel Anticoagulants for Atrial Fibrillation**:\n",
      "   - **Key Findings**: A large-scale clinical trial published in *The Lancet* evaluated the efficacy and safety of a new class of anticoagulants, Factor XI inhibitors, in patients with atrial fibrillation.\n",
      "   - **Methodology**: The trial included over 5,000\n"
     ]
    }
   ],
   "source": [
    "from semantic_kernel.connectors.ai.open_ai import OpenAIChatPromptExecutionSettings\n",
    "\n",
    "execution_config = OpenAIChatPromptExecutionSettings(service_id = \"openai_chat\",\n",
    "                                                    max_tokens=100,\n",
    "                                                    temperature=0,\n",
    "                                                    top_p=0.0)\n",
    "\n",
    "execution_settings = OpenAIChatPromptExecutionSettings(\n",
    "    service_id=\"openai_chat\",\n",
    "    max_tokens=500,\n",
    "    temperature=0.7,\n",
    "    top_p=0.9,\n",
    "    seed=42\n",
    ")\n",
    "\n",
    "prompt = \"\"\"\n",
    "You are a medical researcher. Summarize the latest research articles on the topic of {{$input}}. \n",
    "Include key findings, methodologies, and any significant conclusions.\n",
    "\"\"\"\n",
    "\n",
    "generate_medical_summary = kernel.create_function_from_prompt(\n",
    "    prompt=prompt,\n",
    "    plugin_name=\"Generate_Medical_Summary\",\n",
    "    function_name=\"generate_summary\",\n",
    "    execution_settings=execution_settings\n",
    ")\n",
    "\n",
    "response = await kernel.invoke(generate_medical_summary, input=\"heart disease treatments\")\n",
    "\n",
    "print(\"Generated Medical Research Summary:\", response)"
   ]
  },
  {
   "cell_type": "code",
   "execution_count": 5,
   "metadata": {},
   "outputs": [],
   "source": [
    "from semantic_kernel.planners.basic_planner import BasicPlanner\n",
    "from semantic_kernel.planners.sequential_planner import SequentialPlanner\n",
    "\n",
    "\n",
    "plugin_directory = r\"C:\\Users\\pablosal\\Desktop\\gbbai-agent-architecture-lab\\src\\plugins\"\n",
    "medical_agents_plugin = kernel.import_plugin_from_prompt_directory(plugin_directory, \"MedicalAgents\")"
   ]
  },
  {
   "cell_type": "code",
   "execution_count": 6,
   "metadata": {},
   "outputs": [
    {
     "name": "stdout",
     "output_type": "stream",
     "text": [
      "Available functions in MedicalAgents plugin:\n"
     ]
    },
    {
     "data": {
      "text/plain": [
       "{'ClinicalEvaluator': KernelFunctionFromPrompt(metadata=KernelFunctionMetadata(name='ClinicalEvaluator', plugin_name='MedicalAgents', description='Evaluates the clinical relevance and accuracy of a medical summary.', parameters=[KernelParameterMetadata(name='input', description='The medical summary to be evaluated.', default_value='', type_='', is_required=True, type_object=None)], is_prompt=True, is_asynchronous=True, return_parameter=KernelParameterMetadata(name='return', description='The completion result', default_value=None, type_='FunctionResult', is_required=True, type_object=None)), prompt_template=KernelPromptTemplate(prompt_template_config=PromptTemplateConfig(name='ClinicalEvaluator', description='Evaluates the clinical relevance and accuracy of a medical summary.', template='You are a Clinical Evaluator. Review the following medical summary for clinical relevance and accuracy:\\n\\nMedical Summary:\\n{{$input}}\\n\\nProvide an evaluation highlighting any inaccuracies or areas needing clarification.', template_format='semantic-kernel', input_variables=[InputVariable(name='input', description='The medical summary to be evaluated.', default='', is_required=True, json_schema='')], execution_settings={'openai_chat': PromptExecutionSettings(service_id=None, extension_data={'max_tokens': 1000, 'temperature': 0.5})})), prompt_execution_settings={'openai_chat': PromptExecutionSettings(service_id=None, extension_data={'max_tokens': 1000, 'temperature': 0.5})}),\n",
       " 'MedicalEditor': KernelFunctionFromPrompt(metadata=KernelFunctionMetadata(name='MedicalEditor', plugin_name='MedicalAgents', description='Edits text to improve clarity, style, and adherence to medical writing standards.', parameters=[KernelParameterMetadata(name='input', description='The text to be edited.', default_value='', type_='', is_required=True, type_object=None)], is_prompt=True, is_asynchronous=True, return_parameter=KernelParameterMetadata(name='return', description='The completion result', default_value=None, type_='FunctionResult', is_required=True, type_object=None)), prompt_template=KernelPromptTemplate(prompt_template_config=PromptTemplateConfig(name='MedicalEditor', description='Edits text to improve clarity, style, and adherence to medical writing standards.', template='You are a Medical Editor. Edit the following text to improve clarity, style, and adherence to medical writing standards:\\n\\nText to Edit:\\n{{$input}}\\n\\nProvide the edited version.', template_format='semantic-kernel', input_variables=[InputVariable(name='input', description='The text to be edited.', default='', is_required=True, json_schema='')], execution_settings={'openai_chat': PromptExecutionSettings(service_id=None, extension_data={'max_tokens': 2000, 'temperature': 0.5})})), prompt_execution_settings={'openai_chat': PromptExecutionSettings(service_id=None, extension_data={'max_tokens': 2000, 'temperature': 0.5})}),\n",
       " 'MedicalResearcher': KernelFunctionFromPrompt(metadata=KernelFunctionMetadata(name='MedicalResearcher', plugin_name='MedicalAgents', description='Gathers and summarizes the latest medical research on a given topic.', parameters=[KernelParameterMetadata(name='input', description='The topic for which to gather and summarize the latest medical research.', default_value='', type_='', is_required=True, type_object=None)], is_prompt=True, is_asynchronous=True, return_parameter=KernelParameterMetadata(name='return', description='The completion result', default_value=None, type_='FunctionResult', is_required=True, type_object=None)), prompt_template=KernelPromptTemplate(prompt_template_config=PromptTemplateConfig(name='MedicalResearcher', description='Gathers and summarizes the latest medical research on a given topic.', template='You are a Medical Researcher. Your task is to gather and summarize the latest medical research on the following topic:\\n\\nTopic: {{$input}}\\n\\nProvide a concise summary of key findings, including relevant studies and data.', template_format='semantic-kernel', input_variables=[InputVariable(name='input', description='The topic for which to gather and summarize the latest medical research.', default='', is_required=True, json_schema='')], execution_settings={'openai_chat': PromptExecutionSettings(service_id=None, extension_data={'max_tokens': 1000, 'temperature': 0.7})})), prompt_execution_settings={'openai_chat': PromptExecutionSettings(service_id=None, extension_data={'max_tokens': 1000, 'temperature': 0.7})})}"
      ]
     },
     "execution_count": 6,
     "metadata": {},
     "output_type": "execute_result"
    }
   ],
   "source": [
    "print(\"Available functions in MedicalAgents plugin:\")\n",
    "medical_agents_plugin.functions\n"
   ]
  },
  {
   "cell_type": "markdown",
   "metadata": {},
   "source": [
    "## 3. Develop the Planer"
   ]
  },
  {
   "cell_type": "code",
   "execution_count": 7,
   "metadata": {},
   "outputs": [],
   "source": [
    "# Initialize the planner\n",
    "planner = BasicPlanner('openai_chat')\n",
    "\n",
    "# Define the goal\n",
    "goal_prompt = \"\"\"\n",
    "I want to produce a high-quality medical document on the topic of 'The impact of AI on medical diagnostics.'\n",
    "\"\"\"\n",
    "\n",
    "# Create the plan\n",
    "plan = await planner.create_plan(goal_prompt, kernel)"
   ]
  },
  {
   "cell_type": "code",
   "execution_count": 8,
   "metadata": {},
   "outputs": [
    {
     "name": "stdout",
     "output_type": "stream",
     "text": [
      "{\n",
      "    \"input\": \"The impact of AI on medical diagnostics\",\n",
      "    \"subtasks\": [\n",
      "        {\"function\": \"MedicalAgents.MedicalResearcher\", \"args\": {\"input\": \"The impact of AI on medical diagnostics\"}},\n",
      "        {\"function\": \"MedicalAgents.MedicalEditor\"}\n",
      "    ]\n",
      "}\n"
     ]
    }
   ],
   "source": [
    "print(plan.generated_plan)"
   ]
  },
  {
   "cell_type": "markdown",
   "metadata": {},
   "source": [
    "## 4. Execute the Plan"
   ]
  },
  {
   "cell_type": "code",
   "execution_count": 9,
   "metadata": {},
   "outputs": [],
   "source": [
    "poem = await planner.execute_plan(plan, kernel)\n"
   ]
  },
  {
   "cell_type": "code",
   "execution_count": 10,
   "metadata": {},
   "outputs": [
    {
     "name": "stdout",
     "output_type": "stream",
     "text": [
      "The impact of artificial intelligence (AI) on medical diagnostics is a rapidly evolving field, with numerous studies highlighting its potential to enhance diagnostic accuracy, efficiency, and accessibility. Below is a summary of key findings from recent research:\n",
      "\n",
      "1. **Diagnostic Accuracy and Efficiency**:\n",
      "   - A study published in *The Lancet Digital Health* (2022) demonstrated that AI algorithms could match or exceed the diagnostic accuracy of human experts in detecting diseases such as diabetic retinopathy, lung cancer, and melanoma from medical images. For instance, an AI system achieved an accuracy of 94.5% in diagnosing diabetic retinopathy compared to 91.3% by ophthalmologists.\n",
      "   - Research in *Nature Medicine* (2022) revealed that an AI model outperformed radiologists in detecting breast cancer from mammograms, reducing false positives by 5.7% and false negatives by 9.4%.\n",
      "\n",
      "2. **AI in Radiology**:\n",
      "   - A comprehensive review in the *Journal of the American College of Radiology* (2023) highlighted the integration of AI in radiology workflows, reducing the time required for image interpretation and improving the detection rates of pathologies such as fractures, tumors, and infections.\n",
      "\n",
      "3. **Pathology and Histopathology**:\n",
      "   - A study in *JAMA Oncology* (2023) reported that AI algorithms could identify metastatic cancer in lymph nodes with an accuracy of 88%, surpassing the 85% accuracy of pathologists. This suggests AI's potential in assisting pathologists in identifying subtle histopathological changes.\n",
      "\n",
      "4. **Cardiology**:\n",
      "   - Research published in *Circulation* (2023) found that AI-powered electrocardiogram (ECG) interpretation could detect atrial fibrillation with a sensitivity of 95% and specificity of 90%, significantly higher than traditional methods.\n",
      "\n",
      "5. **Primary Care and General Diagnostics**:\n",
      "   - A study in *BMJ Open* (2022) evaluated AI-based diagnostic tools in primary care settings, showing that AI can assist in the early detection of conditions like sepsis and acute kidney injury, leading to timely interventions and improved patient outcomes.\n",
      "\n",
      "6. **Challenges and Ethical Considerations**:\n",
      "   - Despite the promising results, challenges such as data privacy, algorithmic bias, and the need for large, diverse datasets were highlighted in a review in *The New England Journal of Medicine* (2023). The review emphasized the importance of transparent AI systems and continuous monitoring to ensure equitable and accurate diagnostic outcomes.\n",
      "\n",
      "7. **Clinical Trials and Implementation**:\n",
      "   - Ongoing clinical trials are investigating the real-world impact of AI in diagnostics. For example, a trial reported in *The Lancet* (2023) is assessing the use of AI in triaging emergency department patients, with preliminary results indicating a 20% reduction in diagnostic errors and improved patient throughput.\n",
      "\n",
      "In summary, AI has shown significant promise in improving diagnostic accuracy, efficiency, and early detection across various medical fields. However, integrating AI into clinical practice requires addressing ethical, logistical, and technical challenges to ensure the safe and effective use of these technologies.\n"
     ]
    }
   ],
   "source": [
    "print(poem)"
   ]
  }
 ],
 "metadata": {
  "kernelspec": {
   "display_name": "agentic-framework-lab",
   "language": "python",
   "name": "python3"
  },
  "language_info": {
   "codemirror_mode": {
    "name": "ipython",
    "version": 3
   },
   "file_extension": ".py",
   "mimetype": "text/x-python",
   "name": "python",
   "nbconvert_exporter": "python",
   "pygments_lexer": "ipython3",
   "version": "3.10.15"
  }
 },
 "nbformat": 4,
 "nbformat_minor": 2
}
