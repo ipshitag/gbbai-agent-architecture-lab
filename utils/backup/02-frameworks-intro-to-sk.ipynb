{
 "cells": [
  {
   "cell_type": "code",
   "execution_count": 1,
   "metadata": {},
   "outputs": [
    {
     "name": "stdout",
     "output_type": "stream",
     "text": [
      "Directory changed to C:\\Users\\pablosal\\Desktop\\gbbai-agent-architecture-lab\n"
     ]
    }
   ],
   "source": [
    "import os\n",
    "import pprint\n",
    "\n",
    "# Define the target directory\n",
    "target_directory = r\"C:\\Users\\pablosal\\Desktop\\gbbai-agent-architecture-lab\"  # change your directory here\n",
    "\n",
    "# Check if the directory exists\n",
    "if os.path.exists(target_directory):\n",
    "    # Change the current working directory\n",
    "    os.chdir(target_directory)\n",
    "    print(f\"Directory changed to {os.getcwd()}\")\n",
    "else:\n",
    "    print(f\"Directory {target_directory} does not exist.\")"
   ]
  },
  {
   "cell_type": "markdown",
   "metadata": {},
   "source": [
    "### Understanding Semantic Kernel Components\n",
    "\n",
    "Before diving into the implementation, let's understand the key components of Semantic Kernel.\n",
    "\n",
    "#### The Kernel\n",
    "\n",
    "The Kernel is the central orchestrator in Semantic Kernel. It manages:\n",
    "\n",
    "- **Connecting to AI Models**: Interfaces with various AI models via connectors.\n",
    "- **Registering and Invoking Plugins**: Manages the lifecycle and execution of plugins.\n",
    "- **Managing Memory and Context**: Maintains state and context across interactions.\n",
    "- **Interacting with the Planner**: Coordinates with the Planner to achieve specified goals.\n",
    "\n",
    "#### Connectors\n",
    "\n",
    "Connectors allow the Kernel to interface with various AI models and services. They define how the Kernel communicates with these models, whether they're:\n",
    "\n",
    "- **OpenAI Models**: Such as GPT-3.5, GPT-4.\n",
    "- **Azure OpenAI Services**: Leveraging Microsoft's cloud-based AI capabilities.\n",
    "- **Local Models**: Using libraries like Hugging Face Transformers.\n",
    "\n",
    "#### Plugins\n",
    "\n",
    "Plugins are modular units that extend the Kernel's functionality. They consist of:\n",
    "\n",
    "- **Prompt Functions**: Use natural language prompts to interact with AI models.\n",
    "- **Native Functions**: Written in Python, performing deterministic tasks or interfacing with external services.\n",
    "\n",
    "Plugins act as building blocks for complex workflows.\n",
    "\n",
    "#### The Planner\n",
    "\n",
    "The Planner uses AI to dynamically create a sequence of actions (a plan) to achieve a specified goal. It considers:\n",
    "\n",
    "- **Available Plugins and Their Functions**: Understands the capabilities of each plugin.\n",
    "- **Function Descriptions**: Uses metadata to understand what each function does.\n",
    "- **Combining Functions**: Determines how functions can be combined to fulfill the goal.\n"
   ]
  },
  {
   "cell_type": "markdown",
   "metadata": {},
   "source": [
    "### 🌟 Creating a Multi-Agent Architecture for Medical Research Documentation\n",
    "\n",
    "In the realm of medical research, producing high-quality documentation is crucial. This guide aims to design a multi-agent system consisting of three specialized agents:\n",
    "\n",
    "- **Medical Researcher**: Gathers and summarizes relevant medical information.\n",
    "- **Clinical Evaluator**: Assesses the clinical relevance and accuracy of the information.\n",
    "- **Medical Editor**: Refines the language and ensures adherence to medical writing standards.\n",
    "\n",
    "Using Semantic Kernel's capabilities, we'll create plugins representing these agents and use a Planner to dynamically orchestrate their workflow based on a given goal.\n",
    "\n",
    "By leveraging Semantic Kernel's capabilities, we can create a robust single-agent and sophisticated multi-agent system. Let's do it !\n",
    "\n",
    "### Implementation\n",
    "\n",
    "We will:\n",
    "\n",
    "1. **Define Plugins**: Create plugins for the Medical Researcher, Clinical Evaluator, and Medical Editor.\n",
    "2. **Configure the Kernel**: Set up the Kernel with the necessary connectors and plugins.\n",
    "3. **Develop the Planner**: Implement the Planner to dynamically orchestrate the workflow.\n",
    "4. **Execute the Plan**: Run the system to produce high-quality medical documentation."
   ]
  },
  {
   "cell_type": "code",
   "execution_count": 2,
   "metadata": {},
   "outputs": [
    {
     "name": "stdout",
     "output_type": "stream",
     "text": [
      "We are using the following semantic_kernel library version: 1.17.0\n"
     ]
    }
   ],
   "source": [
    "#!pip install semantic-kernel --upgrade\n",
    "import semantic_kernel as sk\n",
    "print(f\"We are using the following semantic_kernel library version: {sk.__version__}\")"
   ]
  },
  {
   "cell_type": "markdown",
   "metadata": {},
   "source": [
    "## 1. Define Plugins\n",
    "\n",
    "We have defined the plugin for MedicalAgents located in the specified directory  `C:\\Users\\pablosal\\Desktop\\gbbai-agent-architecture-lab\\src\\plugins\\plugins_store`"
   ]
  },
  {
   "cell_type": "markdown",
   "metadata": {},
   "source": [
    "## 2. Configure The Kernel"
   ]
  },
  {
   "cell_type": "code",
   "execution_count": 3,
   "metadata": {},
   "outputs": [],
   "source": [
    "import semantic_kernel as sk\n",
    "\n",
    "# Initialize the kernel\n",
    "kernel = sk.Kernel()"
   ]
  },
  {
   "cell_type": "code",
   "execution_count": 4,
   "metadata": {},
   "outputs": [],
   "source": [
    "# add Azure OpenAI service connector to the kernel\n",
    "import os\n",
    "from semantic_kernel import Kernel\n",
    "from semantic_kernel.connectors.ai.open_ai import AzureChatCompletion\n",
    "\n",
    "# Load environment variables from a .env file\n",
    "from dotenv import load_dotenv\n",
    "load_dotenv()\n",
    "\n",
    "AZURE_OPENAI_KEY = os.getenv(\"AZURE_OPENAI_KEY\")\n",
    "AZURE_OPENAI_ENDPOINT = os.getenv(\"AZURE_OPENAI_API_ENDPOINT\")\n",
    "AZURE_OPENAI_API_VERSION = os.getenv(\"AZURE_OPENAI_API_VERSION\")\n",
    "AZURE_OPENAI_EMBEDDING_DEPLOYMENT = os.getenv(\"AZURE_OPENAI_EMBEDDING_DEPLOYMENT\")\n",
    "AZURE_OPENAI_CHAT_DEPLOYMENT_ID = os.getenv(\"AZURE_AOAI_CHAT_MODEL_NAME_DEPLOYMENT_ID\")\n",
    "\n",
    "service_id = \"openai-chat\"\n",
    "# Add Azure OpenAI chat completion\n",
    "kernel.add_service(AzureChatCompletion(\n",
    "    service_id=service_id,\n",
    "    deployment_name=AZURE_OPENAI_CHAT_DEPLOYMENT_ID,\n",
    "    api_key=AZURE_OPENAI_KEY,\n",
    "    endpoint=AZURE_OPENAI_ENDPOINT,\n",
    "    api_version=AZURE_OPENAI_API_VERSION,\n",
    "))"
   ]
  },
  {
   "cell_type": "code",
   "execution_count": 5,
   "metadata": {},
   "outputs": [
    {
     "name": "stdout",
     "output_type": "stream",
     "text": [
      "Registered services: {'openai-chat': AzureChatCompletion(ai_model_id='gpt-4o-standard', service_id='openai-chat', client=<openai.lib.azure.AsyncAzureOpenAI object at 0x000001E2BD972860>, ai_model_type=<OpenAIModelTypes.CHAT: 'chat'>, prompt_tokens=0, completion_tokens=0, total_tokens=0)}\n"
     ]
    }
   ],
   "source": [
    "print(\"Registered services:\", kernel.services)\n"
   ]
  },
  {
   "cell_type": "code",
   "execution_count": 6,
   "metadata": {},
   "outputs": [
    {
     "name": "stderr",
     "output_type": "stream",
     "text": [
      "Failed to create function from Python file: C:\\Users\\pablosal\\Desktop\\gbbai-agent-architecture-lab\\src\\plugins\\plugins_store\\medResearch\\__init__.py\n"
     ]
    },
    {
     "name": "stdout",
     "output_type": "stream",
     "text": [
      "Available functions in MedicalAgents plugin:\n",
      "Loaded plugin functions: dict_keys(['ClinicalEvaluator', 'MedicalEditor', 'MedicalResearcher'])\n",
      "name='MedicalResearcher' plugin_name='medResearch' description='Gathers and summarizes the latest medical research on a given topic.' parameters=[KernelParameterMetadata(name='input', description='The topic for which to gather and summarize medical research.', default_value='', type_='', is_required=True, type_object=None, schema_data={'type': 'object', 'description': 'The topic for which to gather and summarize medical research.'}, include_in_function_choices=True)] is_prompt=True is_asynchronous=True return_parameter=KernelParameterMetadata(name='return', description='The completion result', default_value=None, type_='FunctionResult', is_required=True, type_object=None, schema_data=None, include_in_function_choices=True) additional_properties=None\n"
     ]
    }
   ],
   "source": [
    "# Define the parent directory and plugin name\n",
    "parent_directory = os.path.abspath(os.path.join(\"src\", \"plugins\", \"plugins_store\"))\n",
    "plugin_name = \"medResearch\"\n",
    "\n",
    "# Add the plugin to the kernel\n",
    "plugin = kernel.add_plugin(parent_directory=parent_directory, plugin_name=plugin_name)\n",
    "\n",
    "print(\"Available functions in MedicalAgents plugin:\")\n",
    "\n",
    "print(\"Loaded plugin functions:\", plugin.functions.keys())\n",
    "\n",
    "print(plugin.functions['MedicalResearcher'].metadata)\n"
   ]
  },
  {
   "cell_type": "code",
   "execution_count": 7,
   "metadata": {},
   "outputs": [
    {
     "name": "stdout",
     "output_type": "stream",
     "text": [
      "Arguments: {'input': 'What is the latest research on COVID-19?'}\n",
      "Result: ### Introduction\n",
      "\n",
      "COVID-19, caused by the SARS-CoV-2 virus, has had a profound impact on global health since its emergence in late 2019. The pandemic has prompted an unprecedented amount of research aimed at understanding the virus, developing effective treatments, and creating vaccines to curb its spread. The significance of this research lies in its potential to save lives, reduce the burden on healthcare systems, and restore normalcy to societies worldwide.\n",
      "\n",
      "### Key Findings\n",
      "\n",
      "#### Study 1: Vaccine E\n"
     ]
    }
   ],
   "source": [
    "from semantic_kernel.functions.kernel_arguments import KernelArguments\n",
    "\n",
    "arguments = KernelArguments(input=\"What is the latest research on COVID-19?\")\n",
    "print(\"Arguments:\", arguments)\n",
    "\n",
    "result = await kernel.invoke(plugin.functions['MedicalResearcher'], arguments, service_id=\"openai-chat\")\n",
    "print(\"Result:\", result)"
   ]
  },
  {
   "cell_type": "markdown",
   "metadata": {},
   "source": [
    "## 3. Develop the Planer"
   ]
  },
  {
   "cell_type": "code",
   "execution_count": 4,
   "metadata": {},
   "outputs": [],
   "source": [
    "from semantic_kernel.connectors.ai.chat_completion_client_base import ChatCompletionClientBase\n",
    "from semantic_kernel.connectors.ai.open_ai.prompt_execution_settings.azure_chat_prompt_execution_settings import (\n",
    "    AzureChatPromptExecutionSettings,\n",
    ")\n",
    "from semantic_kernel.connectors.ai.function_choice_behavior import FunctionChoiceBehavior"
   ]
  },
  {
   "cell_type": "code",
   "execution_count": 8,
   "metadata": {},
   "outputs": [],
   "source": [
    "from semantic_kernel.connectors.ai.chat_completion_client_base import ChatCompletionClientBase\n",
    "from semantic_kernel.connectors.ai.open_ai.prompt_execution_settings.azure_chat_prompt_execution_settings import (\n",
    "    AzureChatPromptExecutionSettings,\n",
    ")\n",
    "from semantic_kernel.connectors.ai.function_choice_behavior import FunctionChoiceBehavior\n",
    "\n",
    "chat_completion : AzureChatCompletion = kernel.get_service(type=ChatCompletionClientBase)\n",
    "execution_settings = AzureChatPromptExecutionSettings()\n",
    "execution_settings.function_choice_behavior = FunctionChoiceBehavior.Auto() # the automatic planning loop https://learn.microsoft.com/en-us/semantic-kernel/concepts/planning?pivots=programming-language-python#the-automatic-planning-loop\n"
   ]
  },
  {
   "cell_type": "markdown",
   "metadata": {},
   "source": [
    "## 4. Execute the Plan"
   ]
  },
  {
   "cell_type": "code",
   "execution_count": 9,
   "metadata": {},
   "outputs": [
    {
     "name": "stdout",
     "output_type": "stream",
     "text": [
      "AI Response: ### The Impact of Artificial Intelligence on Medical Diagnostics\n",
      "\n",
      "#### Introduction\n",
      "\n",
      "The integration of Artificial Intelligence (AI) into medical diagnostics represents a transformative shift in the healthcare industry. AI's ability to analyze vast amounts of data with high precision and speed offers significant potential to enhance diagnostic accuracy, reduce human error, and improve patient outcomes. This topic is of paramount importance as it addresses the growing need for efficient and accurate diagnostic tools in an era of increasing healthcare demands and complexity.\n",
      "\n",
      "#### Key Findings\n",
      "\n",
      "##### AI in Radiology\n",
      "\n",
      "A recent study published in the journal *Radiology* demonstrated the efficacy of AI algorithms in interpreting imaging studies. The research highlighted that AI systems could accurately detect abnormalities in chest X-rays, such as pneumonia, with sensitivity and specificity comparable to experienced radiologists. Moreover, the integration of AI tools in radiology has been shown to reduce the workload of radiologists by pre-screening images and highlighting areas of interest, thus facilitating faster and more accurate diagnostics.\n",
      "\n",
      "##### AI in Pathology\n",
      "\n",
      "In pathology, AI has been utilized to analyze histopathological slides, aiding in the detection and classification of cancerous tissues. Studies have indicated that AI-powered image analysis can match or even surpass the diagnostic accuracy of pathologists in identifying specific types of cancers. For instance, AI algorithms have demonstrated high accuracy in detecting breast cancer metastases in lymph nodes with minimal false positives, significantly assisting in the decision-making process for oncologists.\n",
      "\n",
      "##### AI in Cardiology\n",
      "\n",
      "Cardiology has also seen significant advancements with the integration of AI. AI algorithms are capable of analyzing electrocardiograms (ECGs) to detect arrhythmias, such as atrial fibrillation, with high accuracy. Additionally, AI has been employed in the interpretation of echocardiograms and cardiac MRI, providing automated measurements of cardiac function and structure, which are critical for the diagnosis and management of various cardiac conditions.\n",
      "\n",
      "#### Clinical Evaluations and Expert Reviews\n",
      "\n",
      "A comprehensive evaluation of the clinical relevance and accuracy of AI in medical diagnostics reveals several key insights:\n",
      "\n",
      "1. **General Overview**: The role and influence of AI in medical diagnostics is highly relevant and contemporary, given the rapid advancements in AI technology and its increasing integration into healthcare.\n",
      "\n",
      "2. **Accuracy**: Various studies have demonstrated that AI systems can achieve diagnostic accuracy comparable to, or even exceeding, that of experienced human diagnosticians. This includes applications in radiology, pathology, cardiology, and other medical fields.\n",
      "\n",
      "3. **Implementation**: Successful implementation of AI in clinical practice requires careful consideration of integration with existing workflows, training for healthcare professionals, and ensuring that AI tools enhance rather than replace the expertise of medical practitioners.\n",
      "\n",
      "4. **Regulation and Ethics**: The deployment of AI in medical diagnostics necessitates rigorous validation, regulatory approval, and adherence to ethical guidelines to ensure patient safety and data privacy.\n",
      "\n",
      "#### Conclusion\n",
      "\n",
      "The impact of AI on medical diagnostics is profound, with numerous applications demonstrating improved diagnostic accuracy and efficiency. Continued research, coupled with clinical evaluations and expert reviews, is essential to further refine AI technologies and integrate them seamlessly into medical practice. As AI continues to evolve, its potential to revolutionize medical diagnostics and enhance patient care becomes increasingly evident.\n",
      "\n",
      "### References\n",
      "\n",
      "1. [AI in Radiology: A Review of Current Applications and Future Directions](https://radiology.ai-journal.org)\n",
      "2. [Artificial Intelligence in Pathology: Enhancing Diagnosis and Patient Care](https://pathology.ai-journal.org)\n",
      "3. [AI-Driven Cardiology: Innovations in Diagnosis and Treatment](https://cardiology.ai-journal.org)\n",
      "\n",
      "---\n",
      "\n",
      "This draft provides a comprehensive overview and detailed insights into the impact of AI on medical diagnostics. Further refinement and expansion with specific study details and references will enhance the document's robustness.\n"
     ]
    }
   ],
   "source": [
    "from semantic_kernel.functions.kernel_arguments import KernelArguments\n",
    "from semantic_kernel.contents.chat_history import ChatHistory\n",
    "import logging\n",
    "from semantic_kernel.utils.logging import setup_logging\n",
    "\n",
    "# Create a history of the conversation\n",
    "chat_history = ChatHistory()\n",
    "\n",
    "# Add system message to the chat history to define the system's role\n",
    "chat_history.add_system_message(\n",
    "    \"You are an AI-powered assistant specializing in producing high-quality medical research papers. \"\n",
    "    \"Your goal is to assist users in creating comprehensive and accurate medical documents. \"\n",
    "    \"You should generate relevant research, evaluate clinical data, and provide thorough evaluations to support the content.\"\n",
    ")\n",
    "\n",
    "# User message containing a detailed query\n",
    "chat_history.add_user_message(\n",
    "    \"I would like to produce a high-quality medical document on the topic of 'The impact of AI on medical diagnostics.' \"\n",
    "    \"Please provide detailed insights, key findings, and relevant research to support this topic. \"\n",
    "    \"Additionally, include clinical evaluations and expert reviews to ensure the content is accurate and comprehensive.\"\n",
    ")\n",
    "\n",
    "# Set up logging\n",
    "logging.basicConfig(\n",
    "    format=\"[%(asctime)s - %(name)s:%(lineno)d - %(levelname)s] %(message)s\",\n",
    "    datefmt=\"%Y-%m-%d %H:%M:%S\",\n",
    ")\n",
    "setup_logging()\n",
    "logging.getLogger(\"kernel\").setLevel(logging.INFO)\n",
    "\n",
    "# Get the response from the AI\n",
    "result = (await chat_completion.get_chat_message_contents(\n",
    "    chat_history=chat_history,\n",
    "    settings=execution_settings,\n",
    "    kernel=kernel,\n",
    "    arguments=KernelArguments(input=\"The impact of AI on medical diagnostics\"),\n",
    "))[0]\n",
    "\n",
    "# Print the result\n",
    "print(\"AI Response:\", result)"
   ]
  }
 ],
 "metadata": {
  "kernelspec": {
   "display_name": "agentic-framework-lab",
   "language": "python",
   "name": "python3"
  },
  "language_info": {
   "codemirror_mode": {
    "name": "ipython",
    "version": 3
   },
   "file_extension": ".py",
   "mimetype": "text/x-python",
   "name": "python",
   "nbconvert_exporter": "python",
   "pygments_lexer": "ipython3",
   "version": "3.10.15"
  }
 },
 "nbformat": 4,
 "nbformat_minor": 2
}
