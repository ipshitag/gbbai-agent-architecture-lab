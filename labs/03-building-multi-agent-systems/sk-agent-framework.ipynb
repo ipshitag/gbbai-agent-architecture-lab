{
 "cells": [
  {
   "cell_type": "markdown",
   "metadata": {},
   "source": [
    "## 🤖 **SK Agent Architecture Overview**\n",
    "\n",
    "> **Note:** The [Semantic Kernel (SK) Agent Framework](https://learn.microsoft.com/en-us/semantic-kernel/frameworks/agent/agent-architecture?pivots=programming-language-csharp) is currently in preview and may change.\n",
    "\n",
    "The SK Agent Framework builds on the core Semantic Kernel by introducing advanced multi-agent collaboration and support for handling multiple conversations concurrently."
   ]
  },
  {
   "cell_type": "markdown",
   "metadata": {},
   "source": [
    "### **Understanding key features of the SK agent framework**\n",
    "\n",
    "#### **1. The Kernel: Your AI “Engine”**\n",
    "**What It Is:** Think of the Kernel as the “brain” or “engine” that powers all AI tasks. It manages large language models (like GPT), keeps track of context, and handles any advanced computations needed for agents to work properly.\n",
    "\n",
    "**Why It Matters:** Without the Kernel, an agent wouldn’t “know” anything or be able to process natural language. It’s the foundation that makes intelligence possible.\n",
    "\n",
    "#### **2. The Agent: A Specialized “Persona”**\n",
    "**What It Is:** An Agent is like a “persona” or “role” that uses the Kernel’s AI capabilities. Each agent has its own personality and purpose:\n",
    "- **Kernel Agent**: Ties directly to a Kernel object, using its full range of AI services.\n",
    "- **Chat Completion Agent, Open AI Assistant Agent**: Specialized agents that build on the Kernel’s intelligence.\n",
    "\n",
    "**Why It Matters:** The Agent decides how to use the Kernel. It interprets requests, provides responses, and can perform specialized tasks by calling the Kernel’s functions (or plugins).\n",
    "\n",
    "#### **3. The Agent Chat: Where Collaboration Happens**\n",
    "**What It Is:** An Agent Chat is like a virtual room (or a group chat) where one or more agents—and possibly human users—come together to share messages or solve problems.\n",
    "- **Group Chat**: Manages multiple agents at once, each taking a different role.\n",
    "\n",
    "**Why It Matters:** In this “room,” the agents can talk to each other or to a human user, coordinate tasks, and respond dynamically. This makes it easy to build multi-agent scenarios (like a customer support chat or a project management tool).\n",
    "\n",
    "#### **4. The Agent Channel: The “Connector”**\n",
    "**What It Is:** The Agent Channel is an internal connector that plugs different agents into an Agent Chat.\n",
    "\n",
    "**Why It Matters:** Most of the time, end users don’t see or deal with the Agent Channel. It’s mainly for developers who want to create custom agents and make them seamlessly join existing chats.\n",
    "\n",
    "#### **How They All Work Together**\n",
    "- **Kernel (Engine)**: Powers the AI capabilities (language understanding, context, etc.).\n",
    "- **Agent (Persona)**: Uses the Kernel to interpret questions, generate answers, and perform tasks. Each agent can be specialized for a different job or function.\n",
    "- **Agent Chat (Collaboration Space)**: Brings multiple agents—and possibly humans—together in a single conversation or multiple concurrent conversations.\n",
    "- **Agent Channel (Internal Connector)**: Ensures any newly created or custom agent can easily join the chat with minimal setup.\n",
    "\n",
    "For example: \n",
    "1. **Kernel Configuration**: You have a Kernel configured to use GPT-like models.\n",
    "2. **Create Agent**: You create a Chat Completion Agent that “speaks” using these models.\n",
    "3. **Add to Chat**: You add this agent to an Agent Chat, where it can interact with you and other agents in the same “room.”\n",
    "4. **New Agent**: If you build a new Finance Agent, you connect it using the Agent Channel so it can also join the conversation.\n",
    "5. **Collaboration**: Both agents can collaborate: the Chat Completion Agent handles general queries while the Finance Agent handles specific financial calculations—both powered by the same Kernel behind the scenes.\n",
    "\n",
    "#### In short: \n",
    "- **Kernel**: The AI powerhouse.\n",
    "- **Agent**: The role/persona that uses the Kernel’s intelligence.\n",
    "- **Agent Chat**: The place where agents (and humans) communicate and collaborate.\n",
    "- **Agent Channel**: The behind-the-scenes connector that lets different agents join the chat.\n",
    "\n",
    "This design makes it easy to scale from a single-agent scenario to a multi-agent environment, all while staying consistent with Semantic Kernel’s [underlying architecture](https://learn.microsoft.com/en-us/semantic-kernel/frameworks/agent/agent-architecture?pivots=programming-language-csharp)."
   ]
  },
  {
   "cell_type": "markdown",
   "metadata": {},
   "source": [
    "### **Prerequisites for Running the Notebook**\n",
    "\n",
    "To run this notebook, you need to first upload your data to the Azure AI service and configure the necessary settings. Follow these steps:\n",
    "\n",
    "1. **Run the Indexing Policies Notebook to upload data to Azure AI search**: Execute the code in the `utils\\indexing-policies.ipynb`\n"
   ]
  },
  {
   "cell_type": "code",
   "execution_count": 1,
   "metadata": {},
   "outputs": [
    {
     "name": "stdout",
     "output_type": "stream",
     "text": [
      "Directory changed to C:\\Users\\pablosal\\Desktop\\gbbai-agent-architecture-lab\n"
     ]
    }
   ],
   "source": [
    "import os\n",
    "import pprint\n",
    "\n",
    "# Define the target directory\n",
    "target_directory = r\"C:\\Users\\pablosal\\Desktop\\gbbai-agent-architecture-lab\"  # change your directory here\n",
    "\n",
    "# Check if the directory exists\n",
    "if os.path.exists(target_directory):\n",
    "    # Change the current working directory\n",
    "    os.chdir(target_directory)\n",
    "    print(f\"Directory changed to {os.getcwd()}\")\n",
    "else:\n",
    "    print(f\"Directory {target_directory} does not exist.\")"
   ]
  },
  {
   "cell_type": "code",
   "execution_count": 2,
   "metadata": {},
   "outputs": [],
   "source": [
    "from semantic_kernel.agents import ChatCompletionAgent\n",
    "from semantic_kernel.agents import AgentGroupChat, ChatCompletionAgent\n",
    "from semantic_kernel.agents.strategies import (\n",
    "    KernelFunctionSelectionStrategy,\n",
    "    KernelFunctionTerminationStrategy,\n",
    ")\n",
    "from semantic_kernel.connectors.ai.open_ai.services.azure_chat_completion import AzureChatCompletion\n",
    "from semantic_kernel.contents.chat_message_content import ChatMessageContent\n",
    "from semantic_kernel.contents.utils.author_role import AuthorRole\n",
    "from semantic_kernel.functions.kernel_function_from_prompt import KernelFunctionFromPrompt\n",
    "from semantic_kernel.kernel import Kernel\n",
    "import logging\n"
   ]
  },
  {
   "cell_type": "markdown",
   "metadata": {},
   "source": [
    "### **Creating a Single Agent**\n",
    "\n",
    "This section demonstrates how to create an agent using the `Agent` class from the `src.agenticai.agents` module. The agent can be configured with optional parameters for service configuration, instructions, skills, and execution behavior.\n",
    "\n",
    "### Parameters:\n",
    "\n",
    "- `service_id`: The service ID for the agent.\n",
    "- `name`: The name of the agent.\n",
    "- `id`: The ID of the agent.\n",
    "- `description`: The description of the agent.\n",
    "- `instructions`: The instructions for the agent.\n",
    "- `skills` (optional): List of plugin names (skills) to load.\n",
    "- `execution_settings` (optional): Execution settings for the agent.\n",
    "- `function_choice_behavior` (optional): Function selection behavior.\n",
    "- `tracing_enabled` (optional): Flag to enable or disable tracing."
   ]
  },
  {
   "cell_type": "markdown",
   "metadata": {},
   "source": [
    "### **🤖 Agent 1 `The Formulator`**\n",
    "\n",
    "The Formulator agent is designed to create optimized search queries based on provided clinical metadata. This agent analyzes the metadata, identifies key details, and formulates a precise query to retrieve relevant information."
   ]
  },
  {
   "cell_type": "code",
   "execution_count": 3,
   "metadata": {},
   "outputs": [
    {
     "name": "stderr",
     "output_type": "stream",
     "text": [
      "2025-02-04 20:06:00,943 - CustomAgent-Formulator - MainProcess - DEBUG    CustomAgent fully initialized. (multiagents.py:_model_post_init__:94)\n",
      "2025-02-04 20:06:00,944 - SkillsManager - MainProcess - DEBUG    Skills manager initialized with parent directory: C:\\Users\\pablosal\\Desktop\\gbbai-agent-architecture-lab\\src\\agenticai\\plugins\\plugins_store (skills.py:__init__:75)\n",
      "2025-02-04 20:06:00,945 - SkillsManager - MainProcess - DEBUG    Attempting to load skill: rewriting (skills.py:load_skills:88)\n",
      "2025-02-04 20:06:00,946 - SkillsManager - MainProcess - INFO     Successfully loaded skill: rewriting (skills.py:load_skills:94)\n",
      "2025-02-04 20:06:06,445 - AIQueryFormulationPlugin - MainProcess - INFO     OpenAI client initialized successfully. (formualtor.py:__init__:78)\n",
      "[2025-02-04 20:06:06 - AIQueryFormulationPlugin:78 - INFO] OpenAI client initialized successfully.\n",
      "[2025-02-04 20:06:06 - semantic_kernel.functions.kernel_plugin:333 - WARNING] Failed to create function from Python file: C:\\Users\\pablosal\\Desktop\\gbbai-agent-architecture-lab\\src\\agenticai\\plugins\\plugins_store\\rewriting\\__init__.py\n",
      "2025-02-04 20:06:06,457 - CustomAgent-Formulator - MainProcess - INFO     Successfully integrated plugin: rewriting (multiagents.py:_load_skills:202)\n",
      "[2025-02-04 20:06:06 - CustomAgent-Formulator:202 - INFO] Successfully integrated plugin: rewriting\n"
     ]
    },
    {
     "name": "stdout",
     "output_type": "stream",
     "text": [
      "CustomAgent initialized successfully!\n"
     ]
    }
   ],
   "source": [
    "from semantic_kernel.connectors.ai.prompt_execution_settings import PromptExecutionSettings\n",
    "from semantic_kernel.connectors.ai.function_choice_behavior import FunctionChoiceBehavior\n",
    "from src.agenticai.multiagents import Agent\n",
    "\n",
    "# Agent Instructions\n",
    "FORMULATOR_NAME = \"Formulator\"\n",
    "FORMULATOR_INSTRUCTIONS = \"\"\"\n",
    "You are responsible for formulating the query based on the given clinical metadata.\n",
    "Your job is to analyze the metadata, identify key details, and create an optimized search query.\n",
    "Output only the query string with no additional text.\n",
    "\"\"\"\n",
    "\n",
    "# Correct Execution Settings\n",
    "execution_settings = PromptExecutionSettings(\n",
    "    service_id=\"formulator\",\n",
    "    extension_data={\"temperature\": 0.0, \"max_tokens\": 2000, \"top_p\": 0.8},\n",
    "    function_choice_behavior=FunctionChoiceBehavior.Auto(),  # Fixed instantiation\n",
    ")\n",
    "\n",
    "# Instantiate the agent\n",
    "agent_formulator = Agent(\n",
    "    service_id=\"formulator\",\n",
    "    name=FORMULATOR_NAME,\n",
    "    description=\"A custom agent for specific tasks.\",\n",
    "    instructions=FORMULATOR_INSTRUCTIONS,\n",
    "    execution_settings=execution_settings,\n",
    "    skills=[\"rewriting\"],\n",
    "    tracing_enabled=True,\n",
    ")\n",
    "\n",
    "print(\"CustomAgent initialized successfully!\")\n"
   ]
  },
  {
   "cell_type": "markdown",
   "metadata": {},
   "source": [
    "### **🤖 Agent 2: The Retriever**\n",
    "\n",
    "The Retriever agent is designed to retrieve content from Azure AI Search based on provided queries. This agent analyzes the query, determines the most effective retrieval strategy, and returns the top document results.\n",
    "\n",
    "### Responsibilities\n",
    "\n",
    "- **Retrieve Content**: Use the provided query to search the Azure AI Search database and retrieve relevant documents.\n",
    "- **Determine Retrieval Strategy**: Analyze the query to determine the most effective retrieval strategy. Classify the query as either 'keyword' or 'semantic' before performing the search.\n",
    "- **Handle No Results**: If no relevant content is found, state 'No relevant content found.'\n"
   ]
  },
  {
   "cell_type": "code",
   "execution_count": 4,
   "metadata": {},
   "outputs": [
    {
     "name": "stderr",
     "output_type": "stream",
     "text": [
      "2025-02-04 20:06:06,964 - CustomAgent-Retriever - MainProcess - DEBUG    CustomAgent fully initialized. (multiagents.py:_model_post_init__:94)\n",
      "[2025-02-04 20:06:06 - CustomAgent-Retriever:94 - DEBUG] CustomAgent fully initialized.\n",
      "2025-02-04 20:06:06,976 - SkillsManager - MainProcess - DEBUG    Skills manager initialized with parent directory: C:\\Users\\pablosal\\Desktop\\gbbai-agent-architecture-lab\\src\\agenticai\\plugins\\plugins_store (skills.py:__init__:75)\n",
      "[2025-02-04 20:06:06 - SkillsManager:75 - DEBUG] Skills manager initialized with parent directory: C:\\Users\\pablosal\\Desktop\\gbbai-agent-architecture-lab\\src\\agenticai\\plugins\\plugins_store\n",
      "2025-02-04 20:06:06,977 - SkillsManager - MainProcess - DEBUG    Attempting to load skill: retrieval (skills.py:load_skills:88)\n",
      "[2025-02-04 20:06:06 - SkillsManager:88 - DEBUG] Attempting to load skill: retrieval\n",
      "2025-02-04 20:06:06,979 - SkillsManager - MainProcess - INFO     Successfully loaded skill: retrieval (skills.py:load_skills:94)\n",
      "[2025-02-04 20:06:06 - SkillsManager:94 - INFO] Successfully loaded skill: retrieval\n",
      "2025-02-04 20:06:07,247 - AgenticRAG - Plugin AzureSearchPlugin - MainProcess - INFO     Initializing SearchClient with endpoint: https://search-ai-factory-centralus.search.windows.net, index_name: ai-policies-index (aisearch.py:__init__:49)\n",
      "[2025-02-04 20:06:07 - AgenticRAG - Plugin AzureSearchPlugin:49 - INFO] Initializing SearchClient with endpoint: https://search-ai-factory-centralus.search.windows.net, index_name: ai-policies-index\n",
      "2025-02-04 20:06:07,256 - AgenticRAG - Plugin AzureSearchPlugin - MainProcess - INFO     SearchClient initialized successfully. (aisearch.py:__init__:52)\n",
      "[2025-02-04 20:06:07 - AgenticRAG - Plugin AzureSearchPlugin:52 - INFO] SearchClient initialized successfully.\n",
      "2025-02-04 20:06:07,706 - AIQueryClassificationPlugin - MainProcess - INFO     OpenAI client initialized successfully. (aisearchclassification.py:__init__:57)\n",
      "[2025-02-04 20:06:07 - AIQueryClassificationPlugin:57 - INFO] OpenAI client initialized successfully.\n",
      "[2025-02-04 20:06:07 - semantic_kernel.functions.kernel_plugin:333 - WARNING] Failed to create function from Python file: C:\\Users\\pablosal\\Desktop\\gbbai-agent-architecture-lab\\src\\agenticai\\plugins\\plugins_store\\retrieval\\__init__.py\n",
      "2025-02-04 20:06:07,718 - CustomAgent-Retriever - MainProcess - INFO     Successfully integrated plugin: retrieval (multiagents.py:_load_skills:202)\n",
      "[2025-02-04 20:06:07 - CustomAgent-Retriever:202 - INFO] Successfully integrated plugin: retrieval\n"
     ]
    },
    {
     "name": "stdout",
     "output_type": "stream",
     "text": [
      "CustomAgent initialized successfully!\n"
     ]
    }
   ],
   "source": [
    "from semantic_kernel.connectors.ai.prompt_execution_settings import PromptExecutionSettings\n",
    "from semantic_kernel.connectors.ai.function_choice_behavior import FunctionChoiceBehavior\n",
    "\n",
    "# Agent Instructions\n",
    "RETRIEVER_NAME = \"Retriever\"\n",
    "RETRIEVER_INSTRUCTIONS = \"\"\"\n",
    "You are responsible for retrieving content from Azure AI Search.\n",
    "Use the provided query to search the database and return the top document results.\n",
    "Please make sure to determine the retrieval strategy based on the query. Classify the query first and then retrieve the information.\n",
    "If there are no results, state 'No relevant content found.'\n",
    "\"\"\"\n",
    "\n",
    "# Correct Execution Settings\n",
    "execution_settings = PromptExecutionSettings(\n",
    "    service_id=\"retriever\",\n",
    "    extension_data={\"temperature\": 0.0, \"max_tokens\": 2000, \"top_p\": 0.8},\n",
    "    function_choice_behavior=FunctionChoiceBehavior.Auto(),  # Fixed instantiation\n",
    ")\n",
    "\n",
    "# Instantiate the agent\n",
    "agent_retriever = Agent(\n",
    "    service_id=\"retriever\",\n",
    "    name=RETRIEVER_NAME,\n",
    "    description=\"A custom agent for specific tasks.\",\n",
    "    instructions=RETRIEVER_INSTRUCTIONS,\n",
    "    execution_settings=execution_settings,\n",
    "    skills=[\"retrieval\"],\n",
    "    tracing_enabled=True,\n",
    ")\n",
    "\n",
    "print(\"CustomAgent initialized successfully!\")\n"
   ]
  },
  {
   "cell_type": "code",
   "execution_count": 5,
   "metadata": {},
   "outputs": [
    {
     "data": {
      "text/plain": [
       "{'retrieval': KernelPlugin(name='retrieval', description=None, functions={'hybrid_search': KernelFunctionFromMethod(metadata=KernelFunctionMetadata(name='hybrid_search', plugin_name='retrieval', description='Performs a hybrid search using both keyword and vector search techniques.', parameters=[KernelParameterMetadata(name='search_text', description=None, default_value=None, type_='str', is_required=True, type_object=<class 'str'>, schema_data={'type': 'string'}, include_in_function_choices=True), KernelParameterMetadata(name='top', description=None, default_value=5, type_='int', is_required=False, type_object=<class 'int'>, schema_data={'type': 'integer'}, include_in_function_choices=True)], is_prompt=False, is_asynchronous=False, return_parameter=KernelParameterMetadata(name='return', description='A list of search results for the hybrid query', default_value=None, type_='list[dict[str, typing.Any]]', is_required=True, type_object=<class 'list'>, schema_data={'type': 'array', 'description': 'A list of search results for the hybrid query'}, include_in_function_choices=True), additional_properties={}), invocation_duration_histogram=<opentelemetry.metrics._internal.instrument._ProxyHistogram object at 0x000001850B8B9030>, streaming_duration_histogram=<opentelemetry.metrics._internal.instrument._ProxyHistogram object at 0x000001850B8BA3B0>, method=<bound method AzureSearchPlugin.hybrid_search of <aisearch.AzureSearchPlugin object at 0x000001850B6C3E20>>, stream_method=None), 'keyword_search': KernelFunctionFromMethod(metadata=KernelFunctionMetadata(name='keyword_search', plugin_name='retrieval', description='Performs a keyword-based search against the Azure AI Search index.', parameters=[KernelParameterMetadata(name='search_text', description=None, default_value=None, type_='str', is_required=True, type_object=<class 'str'>, schema_data={'type': 'string'}, include_in_function_choices=True), KernelParameterMetadata(name='top', description=None, default_value=5, type_='int', is_required=False, type_object=<class 'int'>, schema_data={'type': 'integer'}, include_in_function_choices=True)], is_prompt=False, is_asynchronous=False, return_parameter=KernelParameterMetadata(name='return', description='A list of search results for the keyword query', default_value=None, type_='list[dict[str, typing.Any]]', is_required=True, type_object=<class 'list'>, schema_data={'type': 'array', 'description': 'A list of search results for the keyword query'}, include_in_function_choices=True), additional_properties={}), invocation_duration_histogram=<opentelemetry.metrics._internal.instrument._ProxyHistogram object at 0x000001850B8BA440>, streaming_duration_histogram=<opentelemetry.metrics._internal.instrument._ProxyHistogram object at 0x000001850B8BA560>, method=<bound method AzureSearchPlugin.keyword_search of <aisearch.AzureSearchPlugin object at 0x000001850B6C3E20>>, stream_method=None), 'semantic_search': KernelFunctionFromMethod(metadata=KernelFunctionMetadata(name='semantic_search', plugin_name='retrieval', description='Performs a semantic search using Azure AI Search.', parameters=[KernelParameterMetadata(name='search_text', description=None, default_value=None, type_='str', is_required=True, type_object=<class 'str'>, schema_data={'type': 'string'}, include_in_function_choices=True), KernelParameterMetadata(name='top', description=None, default_value=5, type_='int', is_required=False, type_object=<class 'int'>, schema_data={'type': 'integer'}, include_in_function_choices=True)], is_prompt=False, is_asynchronous=False, return_parameter=KernelParameterMetadata(name='return', description='A list of search results for the semantic query', default_value=None, type_='list[dict[str, typing.Any]]', is_required=True, type_object=<class 'list'>, schema_data={'type': 'array', 'description': 'A list of search results for the semantic query'}, include_in_function_choices=True), additional_properties={}), invocation_duration_histogram=<opentelemetry.metrics._internal.instrument._ProxyHistogram object at 0x000001850B8BA5C0>, streaming_duration_histogram=<opentelemetry.metrics._internal.instrument._ProxyHistogram object at 0x000001850B8BA620>, method=<bound method AzureSearchPlugin.semantic_search of <aisearch.AzureSearchPlugin object at 0x000001850B6C3E20>>, stream_method=None), 'classify_search_query': KernelFunctionFromMethod(metadata=KernelFunctionMetadata(name='classify_search_query', plugin_name='retrieval', description=\"Classifies a query into 'keyword' or 'semantic' using LLM reasoning.\", parameters=[KernelParameterMetadata(name='query_text', description=\"The user's search query to be classified.\", default_value=None, type_='str', is_required=True, type_object=<class 'str'>, schema_data={'type': 'string', 'description': \"The user's search query to be classified.\"}, include_in_function_choices=True)], is_prompt=False, is_asynchronous=True, return_parameter=KernelParameterMetadata(name='return', description='A JSON object containing the classification result.', default_value=None, type_='dict[dict]', is_required=True, type_object=<class 'dict'>, schema_data={'type': 'object', 'description': 'A JSON object containing the classification result.'}, include_in_function_choices=True), additional_properties={}), invocation_duration_histogram=<opentelemetry.metrics._internal.instrument._ProxyHistogram object at 0x000001850B8E0430>, streaming_duration_histogram=<opentelemetry.metrics._internal.instrument._ProxyHistogram object at 0x000001850B8E0220>, method=<bound method AIQueryClassificationPlugin.classify_query of <aisearchclassification.AIQueryClassificationPlugin object at 0x000001850B8BA4A0>>, stream_method=None), 'get_icd10cm_codes': KernelFunctionFromMethod(metadata=KernelFunctionMetadata(name='get_icd10cm_codes', plugin_name='retrieval', description='Retrieve ICD-10-CM codes and descriptions for a given medical term.', parameters=[KernelParameterMetadata(name='term', description=None, default_value=None, type_='str', is_required=True, type_object=<class 'str'>, schema_data={'type': 'string'}, include_in_function_choices=True), KernelParameterMetadata(name='max_results', description=None, default_value=7, type_='int', is_required=False, type_object=<class 'int'>, schema_data={'type': 'integer'}, include_in_function_choices=True)], is_prompt=False, is_asynchronous=False, return_parameter=KernelParameterMetadata(name='return', description='', default_value=None, type_='list[str, str]', is_required=True, type_object=<class 'list'>, schema_data={'type': 'array'}, include_in_function_choices=True), additional_properties={}), invocation_duration_histogram=<opentelemetry.metrics._internal.instrument._ProxyHistogram object at 0x000001850B8E0550>, streaming_duration_histogram=<opentelemetry.metrics._internal.instrument._ProxyHistogram object at 0x000001850B8E04F0>, method=<bound method ICD10CMPlugin.get_icd10cm_codes of <icdCodes.ICD10CMPlugin object at 0x000001850B8E0280>>, stream_method=None)})}"
      ]
     },
     "execution_count": 5,
     "metadata": {},
     "output_type": "execute_result"
    }
   ],
   "source": [
    "agent_retriever.kernel.plugins"
   ]
  },
  {
   "cell_type": "markdown",
   "metadata": {},
   "source": [
    "### **🤖 Agent 3: The Evaluator**\n",
    "\n",
    "The Evaluator agent is designed to analyze and evaluate the retrieved search results against the provided user query. The agent's primary goal is to identify the most relevant policy or policies that meet the user’s intent and eliminate any duplicates or irrelevant content.\n",
    "\n",
    "### Responsibilities\n",
    "\n",
    "- **Content Evaluation**: Determine if the content from the source is relevant to the search query and addresses the clinical or operational requirements.\n",
    "- **Deduplication**: Avoid selecting content that is too similar or redundant. Select the most complete, clear, and useful version if multiple chunks are nearly identical.\n",
    "- **Policy Extraction**: Extract the source document paths from the approved content, ensuring no duplicate paths are included.\n",
    "- **Reasoning**: Provide reasoning for each search result, explaining why it was accepted or rejected."
   ]
  },
  {
   "cell_type": "code",
   "execution_count": 6,
   "metadata": {},
   "outputs": [
    {
     "name": "stderr",
     "output_type": "stream",
     "text": [
      "2025-02-04 20:06:08,246 - CustomAgent-Evaluator - MainProcess - DEBUG    CustomAgent fully initialized. (multiagents.py:_model_post_init__:94)\n",
      "[2025-02-04 20:06:08 - CustomAgent-Evaluator:94 - DEBUG] CustomAgent fully initialized.\n"
     ]
    },
    {
     "name": "stdout",
     "output_type": "stream",
     "text": [
      "CustomAgent initialized successfully!\n"
     ]
    }
   ],
   "source": [
    "from semantic_kernel.connectors.ai.prompt_execution_settings import PromptExecutionSettings\n",
    "from semantic_kernel.connectors.ai.function_choice_behavior import FunctionChoiceBehavior\n",
    "\n",
    "# Agent Instructions\n",
    "EVALUATOR_NAME = \"Evaluator\"\n",
    "EVALUATOR_INSTRUCTIONS = \"\"\"\n",
    "# Role: Multi-Agent Evaluator\n",
    "\n",
    "## **Objective**\n",
    "Your role as the Evaluator is to analyze and evaluate the retrieved search results against the provided user query. Your goal is to **identify the most relevant policy or policies** that meet the user’s intent and **eliminate any duplicates or irrelevant content**.\n",
    "\n",
    "---\n",
    "\n",
    "## **Inputs**\n",
    "1. **Search Query**: The user's request for information. \n",
    "2. **Search Results**: A structured list of search results, each with the following attributes:\n",
    "   - 🆔 **ID**: The unique identifier for the content chunk.\n",
    "   - 📂 **Source Doc Path**: The URL or path to the source document.\n",
    "   - 📜 **Content**: The actual content or policy information extracted from the document.\n",
    "   - 💡 **Caption**: A short description or caption summarizing the key message in the content.\n",
    "\n",
    "---\n",
    "\n",
    "## **What You Need to Do**\n",
    "1. **Content Evaluation**: \n",
    "   - For each search result, determine if the **Content** from the source is relevant to the **Search Query**.\n",
    "   - Check if the content addresses the clinical or operational requirements stated in the query.\n",
    "   - If the content is highly relevant and accurately answers the query, mark it as **“Approved”**.\n",
    "\n",
    "2. **Deduplication**:\n",
    "   - Avoid selecting content that is too similar or redundant.\n",
    "   - If two or more chunks of content are nearly identical (even if from different sources), only select the most complete, clear, and useful version.\n",
    "\n",
    "3. **Policy Extraction**:\n",
    "   - Extract the **Source Doc Path** from the approved content.\n",
    "   - Ensure no duplicate paths are included.\n",
    "   - Multiple policies may be valid for a query, so you should return a list of unique, distinct, and relevant policy paths.\n",
    "\n",
    "4. **Reasoning**:\n",
    "   - For each search result, provide reasoning as to **why it was accepted or rejected**.\n",
    "   - If rejected, provide a clear explanation for why it was not relevant, incomplete, or inaccurate.\n",
    "\n",
    "---\n",
    "\n",
    "## **Output Format**\n",
    "The output should be a **JSON-like structured format** as follows:\n",
    "\n",
    "```json\n",
    "{\n",
    "  \"policies\": [\n",
    "    \"https://example.com/path/to/first/policy.pdf\",\n",
    "    \"https://example.com/path/to/second/policy.pdf\"\n",
    "  ],\n",
    "  \"reasoning\": [\n",
    "    \"Content from source https://example.com/path/to/first/policy.pdf was approved because it directly addressed the query regarding back pain treatment and policy details.\",\n",
    "    \"Content from source https://example.com/path/to/second/policy.pdf was approved because it matched the clinical requirements for back pain treatment involving medication and physical therapy.\",\n",
    "    \"Content from source https://example.com/path/to/third/policy.pdf was rejected because it only provided general information about health policies but did not mention back pain treatment specifically.\"\n",
    "  ],\n",
    "  \"retry\": false\n",
    "}\n",
    "\"\"\"\n",
    "\n",
    "# Correct Execution Settings\n",
    "execution_settings = PromptExecutionSettings(\n",
    "    service_id=\"evaluator\",\n",
    "    extension_data={\"temperature\": 0.0, \"max_tokens\": 2000, \"top_p\": 0.8},\n",
    "    function_choice_behavior=FunctionChoiceBehavior.Auto(),  # Fixed instantiation\n",
    ")\n",
    "\n",
    "# Instantiate the agent\n",
    "agent_evaluator = Agent(\n",
    "    service_id=\"evaluator\",\n",
    "    name=EVALUATOR_NAME,\n",
    "    description=\"A custom agent for specific tasks.\",\n",
    "    instructions=EVALUATOR_INSTRUCTIONS,\n",
    "    execution_settings=execution_settings,\n",
    "    tracing_enabled=True,\n",
    ")\n",
    "\n",
    "print(\"CustomAgent initialized successfully!\")\n"
   ]
  },
  {
   "cell_type": "markdown",
   "metadata": {},
   "source": [
    "## **🤖 Building the Multi-Agent system**"
   ]
  },
  {
   "cell_type": "markdown",
   "metadata": {},
   "source": [
    "#### **1. Importing and Defining the Termination Strategy**"
   ]
  },
  {
   "cell_type": "code",
   "execution_count": 7,
   "metadata": {},
   "outputs": [],
   "source": [
    "from semantic_kernel.agents.strategies.termination.termination_strategy import TerminationStrategy\n",
    "\n",
    "class ApprovalTerminationStrategy(TerminationStrategy):\n",
    "    \"\"\"A strategy for determining when an agent should terminate.\"\"\"\n",
    "    \n",
    "    async def should_agent_terminate(self, agent, history):\n",
    "        \"\"\"Check if the agent should terminate by examining the last message in history.\"\"\"\n",
    "        return \"\"\"retry\": false\"\"\" in history[-1].content.lower()\n"
   ]
  },
  {
   "cell_type": "markdown",
   "metadata": {},
   "source": [
    "#### **2. Initializing AIFoundry Telemetry**"
   ]
  },
  {
   "cell_type": "code",
   "execution_count": 8,
   "metadata": {},
   "outputs": [
    {
     "name": "stderr",
     "output_type": "stream",
     "text": [
      "2025-02-04 20:06:09,404 - AIFoundryManager - MainProcess - INFO     Configuration validation successful. (aifoundry_helper.py:_validate_configurations:54)\n",
      "[2025-02-04 20:06:09 - AIFoundryManager:54 - INFO] Configuration validation successful.\n",
      "2025-02-04 20:06:09,412 - AIFoundryManager - MainProcess - INFO     AIProjectClient initialized successfully. (aifoundry_helper.py:_initialize_project:68)\n",
      "[2025-02-04 20:06:09 - AIFoundryManager:68 - INFO] AIProjectClient initialized successfully.\n"
     ]
    },
    {
     "ename": "NameError",
     "evalue": "name 'ai_foundry_manaer' is not defined",
     "output_type": "error",
     "traceback": [
      "\u001b[1;31m---------------------------------------------------------------------------\u001b[0m",
      "\u001b[1;31mNameError\u001b[0m                                 Traceback (most recent call last)",
      "Cell \u001b[1;32mIn[8], line 3\u001b[0m\n\u001b[0;32m      1\u001b[0m \u001b[38;5;28;01mfrom\u001b[39;00m \u001b[38;5;21;01msrc\u001b[39;00m\u001b[38;5;21;01m.\u001b[39;00m\u001b[38;5;21;01maifoundry\u001b[39;00m\u001b[38;5;21;01m.\u001b[39;00m\u001b[38;5;21;01maifoundry_helper\u001b[39;00m \u001b[38;5;28;01mimport\u001b[39;00m AIFoundryManager\n\u001b[0;32m      2\u001b[0m ai_foundry_manager \u001b[38;5;241m=\u001b[39m AIFoundryManager()\n\u001b[1;32m----> 3\u001b[0m \u001b[43mai_foundry_manaer\u001b[49m\u001b[38;5;241m.\u001b[39minitialize_telemetry()\n",
      "\u001b[1;31mNameError\u001b[0m: name 'ai_foundry_manaer' is not defined"
     ]
    }
   ],
   "source": [
    "from src.aifoundry.aifoundry_helper import AIFoundryManager\n",
    "ai_foundry_manager = AIFoundryManager()\n",
    "ai_foundry_manager.initialize_telemetry()"
   ]
  },
  {
   "cell_type": "markdown",
   "metadata": {},
   "source": [
    "#### **3. Defining the Selection Function Prompt**"
   ]
  },
  {
   "cell_type": "code",
   "execution_count": 9,
   "metadata": {},
   "outputs": [],
   "source": [
    "selection_function = KernelFunctionFromPrompt(\n",
    "    function_name=\"selection\",\n",
    "    prompt=f\"\"\"\n",
    "    Determine which participant takes the next turn in a conversation based on the most recent participant.\n",
    "    State only the name of the participant to take the next turn.\n",
    "    No participant should take more than one turn in a row.\n",
    "\n",
    "    Choose only from these participants:\n",
    "        - {FORMULATOR_NAME}\n",
    "        - {RETRIEVER_NAME}\n",
    "        - {EVALUATOR_NAME}\n",
    "\n",
    "    Always follow these rules when selecting the next participant:\n",
    "    - {FORMULATOR_NAME} starts first and formulates the query.\n",
    "    - After {FORMULATOR_NAME}, it is {RETRIEVER_NAME}'s turn to retrieve the document.\n",
    "    - After {RETRIEVER_NAME}, it is {EVALUATOR_NAME}'s turn to evaluate the content.\n",
    "    - After {EVALUATOR_NAME}, the workflow may terminate if approved.\n",
    "\n",
    "    History:\n",
    "    {{{{$history}}}}\n",
    "    \"\"\",\n",
    ")\n"
   ]
  },
  {
   "cell_type": "markdown",
   "metadata": {},
   "source": [
    "#### **4. Creating a Kernel with Azure Chat Completion**"
   ]
  },
  {
   "cell_type": "code",
   "execution_count": 10,
   "metadata": {},
   "outputs": [],
   "source": [
    "def _create_kernel_with_chat_completion(service_id: str) -> Kernel:\n",
    "    kernel = Kernel()\n",
    "    AZURE_OPENAI_KEY = os.getenv(\"AZURE_OPENAI_KEY\")\n",
    "    AZURE_OPENAI_API_ENDPOINT = os.getenv(\"AZURE_OPENAI_API_ENDPOINT\")\n",
    "    AZURE_OPENAI_API_VERSION = os.getenv(\"AZURE_OPENAI_API_VERSION\")\n",
    "    AZURE_OPENAI_EMBEDDING_DEPLOYMENT = os.getenv(\"AZURE_OPENAI_EMBEDDING_DEPLOYMENT\")\n",
    "    AZURE_AOAI_CHAT_MODEL_NAME_DEPLOYMENT_ID = os.getenv(\"AZURE_AOAI_CHAT_MODEL_NAME_DEPLOYMENT_ID\")\n",
    "\n",
    "    # Register Azure OpenAI chat completion service\n",
    "    kernel.add_service(AzureChatCompletion(\n",
    "        service_id=service_id,\n",
    "        deployment_name=AZURE_AOAI_CHAT_MODEL_NAME_DEPLOYMENT_ID,\n",
    "        api_key=AZURE_OPENAI_KEY,\n",
    "        endpoint=AZURE_OPENAI_API_ENDPOINT,\n",
    "        api_version=AZURE_OPENAI_API_VERSION,\n",
    "    ))\n",
    "    return kernel\n"
   ]
  },
  {
   "cell_type": "markdown",
   "metadata": {},
   "source": [
    "#### **5. Setting up the Agent Group Chat**\n"
   ]
  },
  {
   "cell_type": "code",
   "execution_count": 11,
   "metadata": {},
   "outputs": [],
   "source": [
    "chat = AgentGroupChat(\n",
    "    agents=[agent_formulator, agent_retriever, agent_evaluator],\n",
    "    termination_strategy=ApprovalTerminationStrategy(maximum_iterations=10, agents=[agent_evaluator]),\n",
    "    selection_strategy=KernelFunctionSelectionStrategy(\n",
    "        function=selection_function,\n",
    "        kernel=_create_kernel_with_chat_completion(\"selection\"),\n",
    "        result_parser=lambda result: str(result.value[0]) if result.value is not None else FORMULATOR_NAME,\n",
    "        agent_variable_name=\"agents\",\n",
    "        history_variable_name=\"history\",\n",
    "    ),\n",
    ")\n"
   ]
  },
  {
   "cell_type": "markdown",
   "metadata": {},
   "source": [
    "Explanation:\n",
    "\n",
    " + AgentGroupChat orchestrates multiple agents in a conversation.\n",
    " - Agents: formulator, retriever, evaluator.\n",
    " + termination_strategy: Uses the ApprovalTerminationStrategy defined earlier.\n",
    " - selection_strategy: Uses the prompt-based function to decide which agent speaks next."
   ]
  },
  {
   "cell_type": "markdown",
   "metadata": {},
   "source": [
    "#### **6. Adding System and User Messages**\n"
   ]
  },
  {
   "cell_type": "code",
   "execution_count": 12,
   "metadata": {},
   "outputs": [
    {
     "name": "stderr",
     "output_type": "stream",
     "text": [
      "C:\\Users\\pablosal\\AppData\\Local\\Temp\\ipykernel_7920\\1768603059.py:4: RuntimeWarning: coroutine 'AgentChat.add_chat_message' was never awaited\n",
      "  chat.add_chat_message(ChatMessageContent(role=AuthorRole.SYSTEM, content=system_message))\n",
      "RuntimeWarning: Enable tracemalloc to get the object allocation traceback\n"
     ]
    }
   ],
   "source": [
    "system_message = \"\"\"\n",
    "\"I need the most relevant policy that matches my search criteria.\"\n",
    "\"\"\"\n",
    "chat.add_chat_message(ChatMessageContent(role=AuthorRole.SYSTEM, content=system_message))\n",
    "\n",
    "# User message containing a detailed query\n",
    "user_message = \"\"\"\n",
    "\"Here is the clinical metadata Prior authorization for Adalimumab for Crohn's Disease and Anemia due to blood loss...\"\n",
    "\"\"\""
   ]
  },
  {
   "cell_type": "markdown",
   "metadata": {},
   "source": [
    "#### **7. Instrumentation and Logging**"
   ]
  },
  {
   "cell_type": "code",
   "execution_count": 13,
   "metadata": {},
   "outputs": [],
   "source": [
    "import json\n",
    "import logging\n",
    "from opentelemetry import trace\n",
    "from opentelemetry.instrumentation.httpx import HTTPXClientInstrumentor\n",
    "from opentelemetry.sdk.trace import TracerProvider\n",
    "from opentelemetry.sdk.trace.export import BatchSpanProcessor, ConsoleSpanExporter\n",
    "from opentelemetry.sdk.resources import Resource\n",
    "\n",
    "logging.basicConfig(level=logging.INFO, format='%(asctime)s - %(levelname)s - %(message)s')\n",
    "logger = logging.getLogger(\"Kernel\")\n",
    "\n",
    "resource = Resource(attributes={\"service.name\": \"AgentGroupChatService\"})\n",
    "trace_provider = TracerProvider(resource=resource)\n",
    "trace_provider.add_span_processor(BatchSpanProcessor(ConsoleSpanExporter()))\n",
    "trace.set_tracer_provider(trace_provider)\n",
    "tracer = trace.get_tracer(__name__)\n",
    "\n",
    "def log_agent_invocation(agent_name, role, input_data, output_data):\n",
    "    trace_data = {\n",
    "        \"agent_name\": agent_name,\n",
    "        \"role\": role,\n",
    "        \"input\": input_data,\n",
    "        \"output\": output_data\n",
    "    }\n",
    "    logger.info(json.dumps(trace_data, indent=4))\n"
   ]
  },
  {
   "cell_type": "markdown",
   "metadata": {},
   "source": [
    "#### **8. Running the Chat**"
   ]
  },
  {
   "cell_type": "code",
   "execution_count": 14,
   "metadata": {},
   "outputs": [
    {
     "name": "stderr",
     "output_type": "stream",
     "text": [
      "2024-12-17 22:16:11,470 - AIQueryClassificationPlugin - MainProcess - INFO     Classifying query: Prior authorization for Adalimumab for Crohn's Disease and Anemia due to blood loss (aisearchclassification.py:classify_query:109)\n",
      "2024-12-17 22:16:11,474 - micro - MainProcess - INFO     Function generate_chat_response started at 2024-12-17 22:16:11 (aoai_helper.py:generate_chat_response:370)\n",
      "2024-12-17 22:16:11,476 - micro - MainProcess - INFO     Sending request to Azure OpenAI at 2024-12-17 22:16:11 (aoai_helper.py:generate_chat_response:427)\n",
      "2024-12-17 22:16:13,551 - micro - MainProcess - INFO     Function generate_chat_response finished at 2024-12-17 22:16:13 (Duration: 2.08 seconds) (aoai_helper.py:generate_chat_response:481)\n",
      "2024-12-17 22:16:13,552 - AIQueryClassificationPlugin - MainProcess - INFO     Query classified as: semantic (aisearchclassification.py:classify_query:122)\n",
      "2024-12-17 22:16:13,556 - AIQueryClassificationPlugin - MainProcess - INFO     Query classified as: semantic (aisearchclassification.py:classify_query:128)\n",
      "2024-12-17 22:16:19,559 - AgenticRAG - Plugin AzureSearchPlugin - MainProcess - INFO     Function semantic_search called. (aisearch.py:semantic_search:159)\n",
      "2024-12-17 22:16:20,190 - AgenticRAG - Plugin AzureSearchPlugin - MainProcess - INFO     Extracted results: ========================================\n",
      "🆔 ID: 677854350e06_aHR0cHM6Ly9zdG9yYWdlYWVhc3R1c2ZhY3RvcnkuYmxvYi5jb3JlLndpbmRvd3MubmV0L3ByZS1hdXRoLXBvbGljaWVzL3BvbGljaWVzX29jci8wMDEucGRm0_normalized_images_4_pages_1\n",
      "📂 Source Doc Path: https://storageaeastusfactory.blob.core.windows.net/pre-auth-policies/policies_ocr/001.pdf\n",
      "📜 Content: requirement for a trial of or contraindication to steroids or a trial of one other conventional systemic agent can be made if the patient has already tried at least one biologic other than the requested medication. A biosimilar of the requested biologic does not count. Refer to Appendix for examples of biologics used for Crohn's disease. A trial of mesalamine does not count as a systemic agent for Crohn's disease. c) Patient has enterocutaneous (perianal or abdominal) or rectovaginal fistulas; OR 3 Pages - Cigna National Formulary Coverage - Policy:Inflammatory Conditions - Adalimumab Products Prior Authorization Policy\n",
      "💡 Caption: requirement for a trial of or contraindication to steroids or a trial of one other conventi... A biosimilar of the requested biologic does not count. Refer to Appendix for examples of biologics used for Crohn's disease. A trial of mesalamine does not count as a systemic agent for Crohn's disease. c) Patient has<em> enterocutaneous </em>(perianal or.\n",
      "======================================== (aisearch.py:semantic_search:175)\n"
     ]
    }
   ],
   "source": [
    "async def instrumented_chat(chat, user_message: str):\n",
    "    try:\n",
    "        current_input = user_message\n",
    "        history = {\"USER\": {\"input\": user_message, \"output\": None}}\n",
    "\n",
    "        with tracer.start_as_current_span(\"AgentGroupChatWorkflow\") as chat_span:\n",
    "            chat_span.set_attribute(\"user.message\", user_message)\n",
    "            await chat.add_chat_message(ChatMessageContent(role=AuthorRole.USER, content=user_message))\n",
    "            logger.info(f\"User Input:\\n{user_message}\")\n",
    "\n",
    "            async for content in chat.invoke():\n",
    "                agent_name = content.name or \"Unknown\"\n",
    "                agent_role = content.role.name\n",
    "                agent_output = content.content\n",
    "\n",
    "                with tracer.start_as_current_span(f\"{agent_name}-Invocation\") as agent_span:\n",
    "                    agent_input = current_input\n",
    "                    agent_span.set_attribute(\"agent.role\", agent_role)\n",
    "                    agent_span.set_attribute(\"agent.name\", agent_name)\n",
    "                    agent_span.set_attribute(\"agent.input.text\", agent_input)\n",
    "                    agent_span.set_attribute(\"agent.output.text\", agent_output)\n",
    "\n",
    "                    history[agent_name] = {\"input\": agent_input, \"output\": agent_output}\n",
    "\n",
    "                    log_agent_invocation(agent_name, agent_role, agent_input, agent_output)\n",
    "                    logger.info(f\"Agent Response:\\n{agent_role} - {agent_name}: {agent_output}\")\n",
    "\n",
    "                current_input = agent_output\n",
    "\n",
    "            chat_span.set_attribute(\"workflow.complete\", chat.is_complete)\n",
    "            logger.info(f\"Workflow Complete: {chat.is_complete}\")\n",
    "            logger.info(\"Final Agent Input/Output History:\")\n",
    "            logger.info(json.dumps(history, indent=4))\n",
    "\n",
    "    except Exception as e:\n",
    "        logger.error(f\"Error in AgentGroupChatWorkflow: {str(e)}\", exc_info=True)\n",
    "\n",
    "await instrumented_chat(chat, user_message)\n"
   ]
  },
  {
   "cell_type": "code",
   "execution_count": 15,
   "metadata": {},
   "outputs": [
    {
     "data": {
      "text/plain": [
       "ChatHistory(messages=[ChatMessageContent(inner_content=None, ai_model_id=None, metadata={}, content_type='message', role=<AuthorRole.USER: 'user'>, name=None, items=[TextContent(inner_content=None, ai_model_id=None, metadata={}, content_type='text', text='\\n\"Here is the clinical metadata Prior authorization for Adalimumab for Crohn\\'s Disease and Anemia due to blood loss...\"\\n', encoding=None)], encoding=None, finish_reason=None), ChatMessageContent(inner_content=ChatCompletion(id='chatcmpl-AfflZvKyQXFUhwKrNN3bs3p1t9RU5', choices=[Choice(finish_reason='stop', index=0, logprobs=None, message=ChatCompletionMessage(content=\"Prior authorization for Adalimumab for Crohn's Disease and Anemia due to blood loss\", refusal=None, role='assistant', audio=None, function_call=None, tool_calls=None))], created=1734495361, model='gpt-4o-2024-05-13', object='chat.completion', service_tier=None, system_fingerprint='fp_04751d0b65', usage=CompletionUsage(completion_tokens=19, prompt_tokens=86, total_tokens=105, completion_tokens_details=None, prompt_tokens_details=None)), ai_model_id='gpt-4o-standard', metadata={'logprobs': None, 'id': 'chatcmpl-AfflZvKyQXFUhwKrNN3bs3p1t9RU5', 'created': 1734495361, 'system_fingerprint': 'fp_04751d0b65', 'usage': CompletionUsage(prompt_tokens=86, completion_tokens=19)}, content_type='message', role=<AuthorRole.ASSISTANT: 'assistant'>, name='Formulator', items=[TextContent(inner_content=None, ai_model_id=None, metadata={}, content_type='text', text=\"Prior authorization for Adalimumab for Crohn's Disease and Anemia due to blood loss\", encoding=None)], encoding=None, finish_reason=<FinishReason.STOP: 'stop'>), ChatMessageContent(inner_content=ChatCompletion(id='chatcmpl-Afflaq7Oddk6PIl944EciGTheuu5E', choices=[Choice(finish_reason='tool_calls', index=0, logprobs=None, message=ChatCompletionMessage(content=None, refusal=None, role='assistant', audio=None, function_call=None, tool_calls=[ChatCompletionMessageToolCall(id='call_eUJp84GgRQ7m16fCxt2ji0PA', function=Function(arguments='{\"query_text\":\"Prior authorization for Adalimumab for Crohn\\'s Disease and Anemia due to blood loss\"}', name='retrieval-classify_search_query'), type='function')]))], created=1734495362, model='gpt-4o-2024-05-13', object='chat.completion', service_tier=None, system_fingerprint='fp_04751d0b65', usage=CompletionUsage(completion_tokens=38, prompt_tokens=287, total_tokens=325, completion_tokens_details=None, prompt_tokens_details=None)), ai_model_id='gpt-4o-standard', metadata={'logprobs': None, 'id': 'chatcmpl-Afflaq7Oddk6PIl944EciGTheuu5E', 'created': 1734495362, 'system_fingerprint': 'fp_04751d0b65', 'usage': CompletionUsage(prompt_tokens=287, completion_tokens=38)}, content_type='message', role=<AuthorRole.ASSISTANT: 'assistant'>, name='Retriever', items=[FunctionCallContent(inner_content=None, ai_model_id=None, metadata={}, content_type=<ContentTypes.FUNCTION_CALL_CONTENT: 'function_call'>, id='call_eUJp84GgRQ7m16fCxt2ji0PA', index=None, name='retrieval-classify_search_query', function_name='classify_search_query', plugin_name='retrieval', arguments='{\"query_text\":\"Prior authorization for Adalimumab for Crohn\\'s Disease and Anemia due to blood loss\"}')], encoding=None, finish_reason=<FinishReason.TOOL_CALLS: 'tool_calls'>), ChatMessageContent(inner_content=None, ai_model_id=None, metadata={}, content_type='message', role=<AuthorRole.TOOL: 'tool'>, name='Retriever', items=[FunctionResultContent(inner_content=FunctionResult(function=KernelFunctionMetadata(name='classify_search_query', plugin_name='retrieval', description=\"Classifies a query into 'keyword', 'semantic', or 'hybrid' using LLM reasoning.\", parameters=[KernelParameterMetadata(name='query_text', description=\"The user's search query to be classified.\", default_value=None, type_='str', is_required=True, type_object=<class 'str'>, schema_data={'type': 'string', 'description': \"The user's search query to be classified.\"}, include_in_function_choices=True)], is_prompt=False, is_asynchronous=True, return_parameter=KernelParameterMetadata(name='return', description=\"The classification for the query as 'keyword', 'semantic', or 'hybrid'.\", default_value=None, type_='str', is_required=True, type_object=<class 'str'>, schema_data={'type': 'string', 'description': \"The classification for the query as 'keyword', 'semantic', or 'hybrid'.\"}, include_in_function_choices=True), additional_properties={}), value='semantic', metadata={'arguments': {'query_text': \"Prior authorization for Adalimumab for Crohn's Disease and Anemia due to blood loss\"}, 'used_arguments': {'query_text': \"Prior authorization for Adalimumab for Crohn's Disease and Anemia due to blood loss\"}}), ai_model_id=None, metadata={'arguments': {'query_text': \"Prior authorization for Adalimumab for Crohn's Disease and Anemia due to blood loss\"}, 'used_arguments': {'query_text': \"Prior authorization for Adalimumab for Crohn's Disease and Anemia due to blood loss\"}}, content_type=<ContentTypes.FUNCTION_RESULT_CONTENT: 'function_result'>, id='call_eUJp84GgRQ7m16fCxt2ji0PA', result='semantic', name='retrieval-classify_search_query', function_name='classify_search_query', plugin_name='retrieval', encoding=None)], encoding=None, finish_reason=None), ChatMessageContent(inner_content=ChatCompletion(id='chatcmpl-Affllr6hafYzKcywv8q8zOYuW6Kcx', choices=[Choice(finish_reason='tool_calls', index=0, logprobs=None, message=ChatCompletionMessage(content=None, refusal=None, role='assistant', audio=None, function_call=None, tool_calls=[ChatCompletionMessageToolCall(id='call_gX1y772kRNjoTpBbe5Be9y9t', function=Function(arguments='{\"search_text\":\"Prior authorization for Adalimumab for Crohn\\'s Disease and Anemia due to blood loss\",\"top\":1}', name='retrieval-semantic_search'), type='function')]))], created=1734495373, model='gpt-4o-2024-05-13', object='chat.completion', service_tier=None, system_fingerprint='fp_04751d0b65', usage=CompletionUsage(completion_tokens=41, prompt_tokens=338, total_tokens=379, completion_tokens_details=None, prompt_tokens_details=None)), ai_model_id='gpt-4o-standard', metadata={'logprobs': None, 'id': 'chatcmpl-Affllr6hafYzKcywv8q8zOYuW6Kcx', 'created': 1734495373, 'system_fingerprint': 'fp_04751d0b65', 'usage': CompletionUsage(prompt_tokens=338, completion_tokens=41)}, content_type='message', role=<AuthorRole.ASSISTANT: 'assistant'>, name='Retriever', items=[FunctionCallContent(inner_content=None, ai_model_id=None, metadata={}, content_type=<ContentTypes.FUNCTION_CALL_CONTENT: 'function_call'>, id='call_gX1y772kRNjoTpBbe5Be9y9t', index=None, name='retrieval-semantic_search', function_name='semantic_search', plugin_name='retrieval', arguments='{\"search_text\":\"Prior authorization for Adalimumab for Crohn\\'s Disease and Anemia due to blood loss\",\"top\":1}')], encoding=None, finish_reason=<FinishReason.TOOL_CALLS: 'tool_calls'>), ChatMessageContent(inner_content=None, ai_model_id=None, metadata={}, content_type='message', role=<AuthorRole.TOOL: 'tool'>, name='Retriever', items=[FunctionResultContent(inner_content=FunctionResult(function=KernelFunctionMetadata(name='semantic_search', plugin_name='retrieval', description='Performs a semantic search using Azure AI Search.', parameters=[KernelParameterMetadata(name='search_text', description=None, default_value=None, type_='str', is_required=True, type_object=<class 'str'>, schema_data={'type': 'string'}, include_in_function_choices=True), KernelParameterMetadata(name='top', description=None, default_value=5, type_='int', is_required=False, type_object=<class 'int'>, schema_data={'type': 'integer'}, include_in_function_choices=True)], is_prompt=False, is_asynchronous=False, return_parameter=KernelParameterMetadata(name='return', description='A list of search results for the semantic query', default_value=None, type_='list[dict[str, typing.Any]]', is_required=True, type_object=<class 'list'>, schema_data={'type': 'array', 'description': 'A list of search results for the semantic query'}, include_in_function_choices=True), additional_properties={}), value=\"========================================\\n🆔 ID: 677854350e06_aHR0cHM6Ly9zdG9yYWdlYWVhc3R1c2ZhY3RvcnkuYmxvYi5jb3JlLndpbmRvd3MubmV0L3ByZS1hdXRoLXBvbGljaWVzL3BvbGljaWVzX29jci8wMDEucGRm0_normalized_images_4_pages_1\\n📂 Source Doc Path: https://storageaeastusfactory.blob.core.windows.net/pre-auth-policies/policies_ocr/001.pdf\\n📜 Content: requirement for a trial of or contraindication to steroids or a trial of one other conventional systemic agent can be made if the patient has already tried at least one biologic other than the requested medication. A biosimilar of the requested biologic does not count. Refer to Appendix for examples of biologics used for Crohn's disease. A trial of mesalamine does not count as a systemic agent for Crohn's disease. c) Patient has enterocutaneous (perianal or abdominal) or rectovaginal fistulas; OR 3 Pages - Cigna National Formulary Coverage - Policy:Inflammatory Conditions - Adalimumab Products Prior Authorization Policy\\n💡 Caption: requirement for a trial of or contraindication to steroids or a trial of one other conventi... A biosimilar of the requested biologic does not count. Refer to Appendix for examples of biologics used for Crohn's disease. A trial of mesalamine does not count as a systemic agent for Crohn's disease. c) Patient has<em> enterocutaneous </em>(perianal or.\\n========================================\", metadata={'arguments': {'search_text': \"Prior authorization for Adalimumab for Crohn's Disease and Anemia due to blood loss\", 'top': 1}, 'used_arguments': {'search_text': \"Prior authorization for Adalimumab for Crohn's Disease and Anemia due to blood loss\", 'top': 1}}), ai_model_id=None, metadata={'arguments': {'search_text': \"Prior authorization for Adalimumab for Crohn's Disease and Anemia due to blood loss\", 'top': 1}, 'used_arguments': {'search_text': \"Prior authorization for Adalimumab for Crohn's Disease and Anemia due to blood loss\", 'top': 1}}, content_type=<ContentTypes.FUNCTION_RESULT_CONTENT: 'function_result'>, id='call_gX1y772kRNjoTpBbe5Be9y9t', result=\"========================================\\n🆔 ID: 677854350e06_aHR0cHM6Ly9zdG9yYWdlYWVhc3R1c2ZhY3RvcnkuYmxvYi5jb3JlLndpbmRvd3MubmV0L3ByZS1hdXRoLXBvbGljaWVzL3BvbGljaWVzX29jci8wMDEucGRm0_normalized_images_4_pages_1\\n📂 Source Doc Path: https://storageaeastusfactory.blob.core.windows.net/pre-auth-policies/policies_ocr/001.pdf\\n📜 Content: requirement for a trial of or contraindication to steroids or a trial of one other conventional systemic agent can be made if the patient has already tried at least one biologic other than the requested medication. A biosimilar of the requested biologic does not count. Refer to Appendix for examples of biologics used for Crohn's disease. A trial of mesalamine does not count as a systemic agent for Crohn's disease. c) Patient has enterocutaneous (perianal or abdominal) or rectovaginal fistulas; OR 3 Pages - Cigna National Formulary Coverage - Policy:Inflammatory Conditions - Adalimumab Products Prior Authorization Policy\\n💡 Caption: requirement for a trial of or contraindication to steroids or a trial of one other conventi... A biosimilar of the requested biologic does not count. Refer to Appendix for examples of biologics used for Crohn's disease. A trial of mesalamine does not count as a systemic agent for Crohn's disease. c) Patient has<em> enterocutaneous </em>(perianal or.\\n========================================\", name='retrieval-semantic_search', function_name='semantic_search', plugin_name='retrieval', encoding=None)], encoding=None, finish_reason=None), ChatMessageContent(inner_content=ChatCompletion(id='chatcmpl-AfflsqXDOyvo11rYeg9CdeRzfe8fX', choices=[Choice(finish_reason='stop', index=0, logprobs=None, message=ChatCompletionMessage(content=\"The document found provides information on the prior authorization policy for Adalimumab products, specifically for inflammatory conditions such as Crohn's Disease. It mentions the requirement for a trial of or contraindication to steroids or a trial of one other conventional systemic agent, with specific conditions and exceptions noted.\\n\\nFor more detailed information, you can refer to the source document [here](https://storageaeastusfactory.blob.core.windows.net/pre-auth-policies/policies_ocr/001.pdf).\", refusal=None, role='assistant', audio=None, function_call=None, tool_calls=None))], created=1734495380, model='gpt-4o-2024-05-13', object='chat.completion', service_tier=None, system_fingerprint='fp_04751d0b65', usage=CompletionUsage(completion_tokens=97, prompt_tokens=758, total_tokens=855, completion_tokens_details=None, prompt_tokens_details=None)), ai_model_id='gpt-4o-standard', metadata={'logprobs': None, 'id': 'chatcmpl-AfflsqXDOyvo11rYeg9CdeRzfe8fX', 'created': 1734495380, 'system_fingerprint': 'fp_04751d0b65', 'usage': CompletionUsage(prompt_tokens=758, completion_tokens=97)}, content_type='message', role=<AuthorRole.ASSISTANT: 'assistant'>, name='Retriever', items=[TextContent(inner_content=None, ai_model_id=None, metadata={}, content_type='text', text=\"The document found provides information on the prior authorization policy for Adalimumab products, specifically for inflammatory conditions such as Crohn's Disease. It mentions the requirement for a trial of or contraindication to steroids or a trial of one other conventional systemic agent, with specific conditions and exceptions noted.\\n\\nFor more detailed information, you can refer to the source document [here](https://storageaeastusfactory.blob.core.windows.net/pre-auth-policies/policies_ocr/001.pdf).\", encoding=None)], encoding=None, finish_reason=<FinishReason.STOP: 'stop'>), ChatMessageContent(inner_content=ChatCompletion(id='chatcmpl-Affm3xxmikymnVdq5zRkSXV82tPD4', choices=[Choice(finish_reason='stop', index=0, logprobs=None, message=ChatCompletionMessage(content='```json\\n{\\n  \"policies\": [\\n    \"https://storageaeastusfactory.blob.core.windows.net/pre-auth-policies/policies_ocr/001.pdf\"\\n  ],\\n  \"reasoning\": [\\n    \"Content from source https://storageaeastusfactory.blob.core.windows.net/pre-auth-policies/policies_ocr/001.pdf was approved because it directly addressed the query regarding prior authorization for Adalimumab for Crohn\\'s Disease, including specific requirements and conditions.\"\\n  ],\\n  \"retry\": false\\n}\\n```', refusal=None, role='assistant', audio=None, function_call=None, tool_calls=None))], created=1734495391, model='gpt-4o-2024-05-13', object='chat.completion', service_tier=None, system_fingerprint='fp_04751d0b65', usage=CompletionUsage(completion_tokens=108, prompt_tokens=1238, total_tokens=1346, completion_tokens_details=None, prompt_tokens_details=None)), ai_model_id='gpt-4o-standard', metadata={'logprobs': None, 'id': 'chatcmpl-Affm3xxmikymnVdq5zRkSXV82tPD4', 'created': 1734495391, 'system_fingerprint': 'fp_04751d0b65', 'usage': CompletionUsage(prompt_tokens=1238, completion_tokens=108)}, content_type='message', role=<AuthorRole.ASSISTANT: 'assistant'>, name='Evaluator', items=[TextContent(inner_content=None, ai_model_id=None, metadata={}, content_type='text', text='```json\\n{\\n  \"policies\": [\\n    \"https://storageaeastusfactory.blob.core.windows.net/pre-auth-policies/policies_ocr/001.pdf\"\\n  ],\\n  \"reasoning\": [\\n    \"Content from source https://storageaeastusfactory.blob.core.windows.net/pre-auth-policies/policies_ocr/001.pdf was approved because it directly addressed the query regarding prior authorization for Adalimumab for Crohn\\'s Disease, including specific requirements and conditions.\"\\n  ],\\n  \"retry\": false\\n}\\n```', encoding=None)], encoding=None, finish_reason=<FinishReason.STOP: 'stop'>)])"
      ]
     },
     "execution_count": 15,
     "metadata": {},
     "output_type": "execute_result"
    }
   ],
   "source": [
    "chat.history"
   ]
  },
  {
   "cell_type": "code",
   "execution_count": 17,
   "metadata": {},
   "outputs": [
    {
     "name": "stdout",
     "output_type": "stream",
     "text": [
      "Extracted Policies: ['https://storageaeastusfactory.blob.core.windows.net/pre-auth-policies/policies_ocr/001.pdf']\n"
     ]
    }
   ],
   "source": [
    "from src.agenticai.utils import get_policies_from_chat\n",
    "policies = get_policies_from_chat(chat)\n",
    "print(\"Extracted Policies:\", policies)"
   ]
  }
 ],
 "metadata": {
  "kernelspec": {
   "display_name": "agentic-framework-lab",
   "language": "python",
   "name": "python3"
  },
  "language_info": {
   "codemirror_mode": {
    "name": "ipython",
    "version": 3
   },
   "file_extension": ".py",
   "mimetype": "text/x-python",
   "name": "python",
   "nbconvert_exporter": "python",
   "pygments_lexer": "ipython3",
   "version": "3.10.15"
  }
 },
 "nbformat": 4,
 "nbformat_minor": 2
}
